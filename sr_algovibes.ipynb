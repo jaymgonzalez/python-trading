{
 "cells": [
  {
   "cell_type": "code",
   "execution_count": 214,
   "id": "36debd91",
   "metadata": {},
   "outputs": [],
   "source": [
    "import yfinance as yf\n",
    "import pandas as pd\n",
    "import matplotlib.pyplot as plt\n",
    "import mplfinance as mpf\n",
    "import numpy as np\n",
    "import datetime"
   ]
  },
  {
   "cell_type": "code",
   "execution_count": 347,
   "id": "39a2360a",
   "metadata": {},
   "outputs": [
    {
     "name": "stdout",
     "output_type": "stream",
     "text": [
      "[*********************100%***********************]  1 of 1 completed\n"
     ]
    }
   ],
   "source": [
    "df = yf.download('BTC-USD', start='2015-01-01', \n",
    "                 interval='1wk'\n",
    "                )"
   ]
  },
  {
   "cell_type": "code",
   "execution_count": 348,
   "id": "eaf28bc9",
   "metadata": {},
   "outputs": [
    {
     "data": {
      "text/html": [
       "<div>\n",
       "<style scoped>\n",
       "    .dataframe tbody tr th:only-of-type {\n",
       "        vertical-align: middle;\n",
       "    }\n",
       "\n",
       "    .dataframe tbody tr th {\n",
       "        vertical-align: top;\n",
       "    }\n",
       "\n",
       "    .dataframe thead th {\n",
       "        text-align: right;\n",
       "    }\n",
       "</style>\n",
       "<table border=\"1\" class=\"dataframe\">\n",
       "  <thead>\n",
       "    <tr style=\"text-align: right;\">\n",
       "      <th></th>\n",
       "      <th>Open</th>\n",
       "      <th>High</th>\n",
       "      <th>Low</th>\n",
       "      <th>Close</th>\n",
       "      <th>Adj Close</th>\n",
       "      <th>Volume</th>\n",
       "    </tr>\n",
       "    <tr>\n",
       "      <th>Date</th>\n",
       "      <th></th>\n",
       "      <th></th>\n",
       "      <th></th>\n",
       "      <th></th>\n",
       "      <th></th>\n",
       "      <th></th>\n",
       "    </tr>\n",
       "  </thead>\n",
       "  <tbody>\n",
       "    <tr>\n",
       "      <th>2015-01-01</th>\n",
       "      <td>320.434998</td>\n",
       "      <td>320.434998</td>\n",
       "      <td>257.612000</td>\n",
       "      <td>294.337006</td>\n",
       "      <td>294.337006</td>\n",
       "      <td>196656000</td>\n",
       "    </tr>\n",
       "    <tr>\n",
       "      <th>2015-01-08</th>\n",
       "      <td>294.135010</td>\n",
       "      <td>294.135010</td>\n",
       "      <td>171.509995</td>\n",
       "      <td>178.102997</td>\n",
       "      <td>178.102997</td>\n",
       "      <td>261529108</td>\n",
       "    </tr>\n",
       "    <tr>\n",
       "      <th>2015-01-15</th>\n",
       "      <td>176.897003</td>\n",
       "      <td>229.067001</td>\n",
       "      <td>176.897003</td>\n",
       "      <td>226.897003</td>\n",
       "      <td>226.897003</td>\n",
       "      <td>246383304</td>\n",
       "    </tr>\n",
       "    <tr>\n",
       "      <th>2015-01-22</th>\n",
       "      <td>227.322006</td>\n",
       "      <td>309.384003</td>\n",
       "      <td>225.195999</td>\n",
       "      <td>233.914993</td>\n",
       "      <td>233.914993</td>\n",
       "      <td>312076700</td>\n",
       "    </tr>\n",
       "    <tr>\n",
       "      <th>2015-01-29</th>\n",
       "      <td>233.348007</td>\n",
       "      <td>245.957001</td>\n",
       "      <td>212.014999</td>\n",
       "      <td>226.852997</td>\n",
       "      <td>226.852997</td>\n",
       "      <td>209285400</td>\n",
       "    </tr>\n",
       "    <tr>\n",
       "      <th>...</th>\n",
       "      <td>...</td>\n",
       "      <td>...</td>\n",
       "      <td>...</td>\n",
       "      <td>...</td>\n",
       "      <td>...</td>\n",
       "      <td>...</td>\n",
       "    </tr>\n",
       "    <tr>\n",
       "      <th>2023-04-06</th>\n",
       "      <td>28175.226562</td>\n",
       "      <td>30509.083984</td>\n",
       "      <td>27738.759766</td>\n",
       "      <td>30139.052734</td>\n",
       "      <td>30139.052734</td>\n",
       "      <td>104303658247</td>\n",
       "    </tr>\n",
       "    <tr>\n",
       "      <th>2023-04-13</th>\n",
       "      <td>29892.740234</td>\n",
       "      <td>31005.607422</td>\n",
       "      <td>28669.898438</td>\n",
       "      <td>28822.679688</td>\n",
       "      <td>28822.679688</td>\n",
       "      <td>126867499554</td>\n",
       "    </tr>\n",
       "    <tr>\n",
       "      <th>2023-04-20</th>\n",
       "      <td>28823.683594</td>\n",
       "      <td>29995.837891</td>\n",
       "      <td>27070.849609</td>\n",
       "      <td>28422.701172</td>\n",
       "      <td>28422.701172</td>\n",
       "      <td>135301949612</td>\n",
       "    </tr>\n",
       "    <tr>\n",
       "      <th>2023-04-27</th>\n",
       "      <td>28428.464844</td>\n",
       "      <td>29952.029297</td>\n",
       "      <td>27680.792969</td>\n",
       "      <td>28091.568359</td>\n",
       "      <td>28091.568359</td>\n",
       "      <td>88668343495</td>\n",
       "    </tr>\n",
       "    <tr>\n",
       "      <th>2023-05-02</th>\n",
       "      <td>28011.582031</td>\n",
       "      <td>28141.708984</td>\n",
       "      <td>27928.583984</td>\n",
       "      <td>28057.111328</td>\n",
       "      <td>28057.111328</td>\n",
       "      <td>15811871744</td>\n",
       "    </tr>\n",
       "  </tbody>\n",
       "</table>\n",
       "<p>436 rows × 6 columns</p>\n",
       "</div>"
      ],
      "text/plain": [
       "                    Open          High           Low         Close  \\\n",
       "Date                                                                 \n",
       "2015-01-01    320.434998    320.434998    257.612000    294.337006   \n",
       "2015-01-08    294.135010    294.135010    171.509995    178.102997   \n",
       "2015-01-15    176.897003    229.067001    176.897003    226.897003   \n",
       "2015-01-22    227.322006    309.384003    225.195999    233.914993   \n",
       "2015-01-29    233.348007    245.957001    212.014999    226.852997   \n",
       "...                  ...           ...           ...           ...   \n",
       "2023-04-06  28175.226562  30509.083984  27738.759766  30139.052734   \n",
       "2023-04-13  29892.740234  31005.607422  28669.898438  28822.679688   \n",
       "2023-04-20  28823.683594  29995.837891  27070.849609  28422.701172   \n",
       "2023-04-27  28428.464844  29952.029297  27680.792969  28091.568359   \n",
       "2023-05-02  28011.582031  28141.708984  27928.583984  28057.111328   \n",
       "\n",
       "               Adj Close        Volume  \n",
       "Date                                    \n",
       "2015-01-01    294.337006     196656000  \n",
       "2015-01-08    178.102997     261529108  \n",
       "2015-01-15    226.897003     246383304  \n",
       "2015-01-22    233.914993     312076700  \n",
       "2015-01-29    226.852997     209285400  \n",
       "...                  ...           ...  \n",
       "2023-04-06  30139.052734  104303658247  \n",
       "2023-04-13  28822.679688  126867499554  \n",
       "2023-04-20  28422.701172  135301949612  \n",
       "2023-04-27  28091.568359   88668343495  \n",
       "2023-05-02  28057.111328   15811871744  \n",
       "\n",
       "[436 rows x 6 columns]"
      ]
     },
     "execution_count": 348,
     "metadata": {},
     "output_type": "execute_result"
    }
   ],
   "source": [
    "df"
   ]
  },
  {
   "cell_type": "code",
   "execution_count": 349,
   "id": "8ed970cc",
   "metadata": {},
   "outputs": [
    {
     "data": {
      "text/plain": [
       "(2961.7207927227237, 39024.21511254317, 6995.61789526933)"
      ]
     },
     "execution_count": 349,
     "metadata": {},
     "output_type": "execute_result"
    }
   ],
   "source": [
    "six_months_ago = pd.Timestamp.now() - pd.DateOffset(months=6)\n",
    "sd = np.std(df['High'] - df['Low'])\n",
    "\n",
    "max = df['Close'].loc[six_months_ago:].max() + (sd * 3)\n",
    "min = df['Close'].loc[six_months_ago:].min() - (sd * 3)\n",
    "\n",
    "sd, max, min"
   ]
  },
  {
   "cell_type": "code",
   "execution_count": 362,
   "id": "b3f2c5f6",
   "metadata": {},
   "outputs": [
    {
     "data": {
      "text/plain": [
       "Open         1.928994e+04\n",
       "High         2.267382e+04\n",
       "Low          1.907671e+04\n",
       "Close        2.024109e+04\n",
       "Adj Close    2.024109e+04\n",
       "Volume       2.912473e+11\n",
       "Name: 2022-09-08 00:00:00, dtype: float64"
      ]
     },
     "execution_count": 362,
     "metadata": {},
     "output_type": "execute_result"
    }
   ],
   "source": [
    "subset = df[(df['Close'] >= min) & (df['Close'] <= max)]\n",
    "\n",
    "subset.iloc[150]"
   ]
  },
  {
   "cell_type": "code",
   "execution_count": 351,
   "id": "97f2b428",
   "metadata": {},
   "outputs": [],
   "source": [
    "df = subset"
   ]
  },
  {
   "cell_type": "code",
   "execution_count": 352,
   "id": "65fce111",
   "metadata": {},
   "outputs": [],
   "source": [
    "supports = df[df.Low == df.Low.rolling(5, center=True).min()].Low\n",
    "resistances = df[df.High == df.High.rolling(5, center=True).max()].High"
   ]
  },
  {
   "cell_type": "code",
   "execution_count": 353,
   "id": "cc9e743f",
   "metadata": {},
   "outputs": [],
   "source": [
    "levels = pd.concat([supports, resistances])"
   ]
  },
  {
   "cell_type": "code",
   "execution_count": 354,
   "id": "7784d0ae",
   "metadata": {},
   "outputs": [
    {
     "data": {
      "text/plain": [
       "Date\n",
       "2017-12-21             NaN\n",
       "2018-01-11    -2430.709961\n",
       "2018-02-01    -3354.030273\n",
       "2018-04-12      758.250000\n",
       "2018-07-12     -670.089844\n",
       "2019-05-09     -154.103516\n",
       "2019-07-11     3180.818359\n",
       "2019-08-29      258.495117\n",
       "2019-09-26    -1590.871094\n",
       "2019-10-24     -383.770020\n",
       "2019-11-21     -829.821777\n",
       "2019-12-12      -77.117676\n",
       "2020-01-02      374.946777\n",
       "2020-04-16     -359.491699\n",
       "2020-06-25     2420.020996\n",
       "2020-09-03      940.967773\n",
       "2021-01-21    19036.879883\n",
       "2021-06-17      -59.751953\n",
       "2021-07-15      467.333984\n",
       "2022-05-12    -3010.464844\n",
       "2022-06-16    -8641.867188\n",
       "2022-09-15      581.691406\n",
       "2022-10-13       29.507812\n",
       "2022-11-17    -2720.775391\n",
       "2022-12-15      799.089844\n",
       "2023-02-09     5061.951172\n",
       "2023-03-09    -1831.833984\n",
       "2023-04-20     7442.595703\n",
       "2017-12-14    -6981.849609\n",
       "2018-01-04    -2376.599609\n",
       "2018-02-15    -5753.900391\n",
       "2018-05-03    -1994.000000\n",
       "2018-07-19    -1540.230469\n",
       "2019-06-20     5372.219727\n",
       "2019-08-01    -1522.667969\n",
       "2019-09-05    -1375.059570\n",
       "2019-10-24     -877.017578\n",
       "2020-02-13      435.882812\n",
       "2020-05-07     -460.883789\n",
       "2020-05-28      202.822266\n",
       "2020-08-13     2159.491211\n",
       "2021-01-07    29587.681641\n",
       "2021-05-13     9491.378906\n",
       "2021-06-10   -10142.847656\n",
       "2022-02-17     2837.703125\n",
       "2022-05-26   -11883.109375\n",
       "2022-08-11    -7114.273438\n",
       "2022-09-08    -2461.769531\n",
       "2022-11-03    -1226.933594\n",
       "2022-12-08    -3128.355469\n",
       "2023-02-16     6815.585938\n",
       "2023-04-13     5871.490234\n",
       "dtype: float64"
      ]
     },
     "execution_count": 354,
     "metadata": {},
     "output_type": "execute_result"
    }
   ],
   "source": [
    "levels.diff()"
   ]
  },
  {
   "cell_type": "code",
   "execution_count": 342,
   "id": "a1e25d3b",
   "metadata": {},
   "outputs": [
    {
     "data": {
      "text/plain": [
       "2621.0456170092343"
      ]
     },
     "execution_count": 342,
     "metadata": {},
     "output_type": "execute_result"
    }
   ],
   "source": [
    "sd = np.std(df['High'] - df['Low'])\n",
    "\n",
    "sd"
   ]
  },
  {
   "cell_type": "code",
   "execution_count": 355,
   "id": "73a3413e",
   "metadata": {},
   "outputs": [],
   "source": [
    "levels = levels[abs(levels.diff()) > sd * 2]"
   ]
  },
  {
   "cell_type": "code",
   "execution_count": 356,
   "id": "0a5a3613",
   "metadata": {},
   "outputs": [
    {
     "data": {
      "text/plain": [
       "Date\n",
       "2021-01-21             NaN\n",
       "2022-06-16   -11244.750000\n",
       "2023-04-20     9362.226562\n",
       "2017-12-14    -6981.849609\n",
       "2021-01-07    21857.738281\n",
       "2021-05-13     9491.378906\n",
       "2021-06-10   -10142.847656\n",
       "2022-05-26    -9045.406250\n",
       "2022-08-11    -7114.273438\n",
       "2023-02-16       -1.472656\n",
       "dtype: float64"
      ]
     },
     "execution_count": 356,
     "metadata": {},
     "output_type": "execute_result"
    }
   ],
   "source": [
    "levels.diff()"
   ]
  },
  {
   "cell_type": "code",
   "execution_count": 357,
   "id": "abff8529",
   "metadata": {},
   "outputs": [
    {
     "data": {
      "image/png": "[encoded data removed]",
      "text/plain": [
       "<Figure size 800x575 with 2 Axes>"
      ]
     },
     "metadata": {},
     "output_type": "display_data"
    }
   ],
   "source": [
    "mpf.plot(df, type='candle', hlines=levels.to_list(),style='charles')"
   ]
  },
  {
   "cell_type": "code",
   "execution_count": null,
   "id": "36acacb0",
   "metadata": {},
   "outputs": [],
   "source": [
    "\n"
   ]
  },
  {
   "cell_type": "code",
   "execution_count": null,
   "id": "dd56b501",
   "metadata": {},
   "outputs": [],
   "source": []
  }
 ],
 "metadata": {
  "kernelspec": {
   "display_name": "Python 3 (ipykernel)",
   "language": "python",
   "name": "python3"
  },
  "language_info": {
   "codemirror_mode": {
    "name": "ipython",
    "version": 3
   },
   "file_extension": ".py",
   "mimetype": "text/x-python",
   "name": "python",
   "nbconvert_exporter": "python",
   "pygments_lexer": "ipython3",
   "version": "3.9.13"
  }
 },
 "nbformat": 4,
 "nbformat_minor": 5
}
