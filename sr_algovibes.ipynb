{
 "cells": [
  {
   "cell_type": "code",
   "execution_count": 2,
   "id": "36debd91",
   "metadata": {},
   "outputs": [],
   "source": [
    "import yfinance as yf\n",
    "import pandas as pd\n",
    "import matplotlib.pyplot as plt\n",
    "import mplfinance as mpf"
   ]
  },
  {
   "cell_type": "code",
   "execution_count": 91,
   "id": "39a2360a",
   "metadata": {},
   "outputs": [
    {
     "name": "stdout",
     "output_type": "stream",
     "text": [
      "[*********************100%***********************]  1 of 1 completed\n"
     ]
    }
   ],
   "source": [
    "df = yf.download('BTC-USD', start='2023-05-01', interval='5m')"
   ]
  },
  {
   "cell_type": "code",
   "execution_count": 92,
   "id": "6de6a526",
   "metadata": {},
   "outputs": [
    {
     "data": {
      "text/html": [
       "<div>\n",
       "<style scoped>\n",
       "    .dataframe tbody tr th:only-of-type {\n",
       "        vertical-align: middle;\n",
       "    }\n",
       "\n",
       "    .dataframe tbody tr th {\n",
       "        vertical-align: top;\n",
       "    }\n",
       "\n",
       "    .dataframe thead th {\n",
       "        text-align: right;\n",
       "    }\n",
       "</style>\n",
       "<table border=\"1\" class=\"dataframe\">\n",
       "  <thead>\n",
       "    <tr style=\"text-align: right;\">\n",
       "      <th></th>\n",
       "      <th>Open</th>\n",
       "      <th>High</th>\n",
       "      <th>Low</th>\n",
       "      <th>Close</th>\n",
       "      <th>Adj Close</th>\n",
       "      <th>Volume</th>\n",
       "    </tr>\n",
       "    <tr>\n",
       "      <th>Datetime</th>\n",
       "      <th></th>\n",
       "      <th></th>\n",
       "      <th></th>\n",
       "      <th></th>\n",
       "      <th></th>\n",
       "      <th></th>\n",
       "    </tr>\n",
       "  </thead>\n",
       "  <tbody>\n",
       "    <tr>\n",
       "      <th>2023-05-01 00:00:00+00:00</th>\n",
       "      <td>29227.103516</td>\n",
       "      <td>29287.000000</td>\n",
       "      <td>29227.103516</td>\n",
       "      <td>29248.242188</td>\n",
       "      <td>29248.242188</td>\n",
       "      <td>0</td>\n",
       "    </tr>\n",
       "    <tr>\n",
       "      <th>2023-05-01 00:05:00+00:00</th>\n",
       "      <td>29286.732422</td>\n",
       "      <td>29323.433594</td>\n",
       "      <td>29286.732422</td>\n",
       "      <td>29313.058594</td>\n",
       "      <td>29313.058594</td>\n",
       "      <td>69922816</td>\n",
       "    </tr>\n",
       "    <tr>\n",
       "      <th>2023-05-01 00:10:00+00:00</th>\n",
       "      <td>29323.416016</td>\n",
       "      <td>29323.500000</td>\n",
       "      <td>29296.267578</td>\n",
       "      <td>29296.267578</td>\n",
       "      <td>29296.267578</td>\n",
       "      <td>37208064</td>\n",
       "    </tr>\n",
       "    <tr>\n",
       "      <th>2023-05-01 00:15:00+00:00</th>\n",
       "      <td>29302.458984</td>\n",
       "      <td>29329.484375</td>\n",
       "      <td>29302.458984</td>\n",
       "      <td>29321.751953</td>\n",
       "      <td>29321.751953</td>\n",
       "      <td>47632384</td>\n",
       "    </tr>\n",
       "    <tr>\n",
       "      <th>2023-05-01 00:20:00+00:00</th>\n",
       "      <td>29290.128906</td>\n",
       "      <td>29296.687500</td>\n",
       "      <td>29288.869141</td>\n",
       "      <td>29295.902344</td>\n",
       "      <td>29295.902344</td>\n",
       "      <td>7828480</td>\n",
       "    </tr>\n",
       "    <tr>\n",
       "      <th>...</th>\n",
       "      <td>...</td>\n",
       "      <td>...</td>\n",
       "      <td>...</td>\n",
       "      <td>...</td>\n",
       "      <td>...</td>\n",
       "      <td>...</td>\n",
       "    </tr>\n",
       "    <tr>\n",
       "      <th>2023-05-02 09:30:00+00:00</th>\n",
       "      <td>27965.988281</td>\n",
       "      <td>27974.703125</td>\n",
       "      <td>27960.300781</td>\n",
       "      <td>27974.703125</td>\n",
       "      <td>27974.703125</td>\n",
       "      <td>10704896</td>\n",
       "    </tr>\n",
       "    <tr>\n",
       "      <th>2023-05-02 09:35:00+00:00</th>\n",
       "      <td>27974.177734</td>\n",
       "      <td>27998.437500</td>\n",
       "      <td>27974.177734</td>\n",
       "      <td>27998.437500</td>\n",
       "      <td>27998.437500</td>\n",
       "      <td>33427456</td>\n",
       "    </tr>\n",
       "    <tr>\n",
       "      <th>2023-05-02 09:40:00+00:00</th>\n",
       "      <td>27993.744141</td>\n",
       "      <td>28033.226562</td>\n",
       "      <td>27989.791016</td>\n",
       "      <td>28033.226562</td>\n",
       "      <td>28033.226562</td>\n",
       "      <td>12164096</td>\n",
       "    </tr>\n",
       "    <tr>\n",
       "      <th>2023-05-02 09:45:00+00:00</th>\n",
       "      <td>28012.082031</td>\n",
       "      <td>28012.082031</td>\n",
       "      <td>27994.173828</td>\n",
       "      <td>27994.173828</td>\n",
       "      <td>27994.173828</td>\n",
       "      <td>4744192</td>\n",
       "    </tr>\n",
       "    <tr>\n",
       "      <th>2023-05-02 09:50:00+00:00</th>\n",
       "      <td>27988.240234</td>\n",
       "      <td>27988.240234</td>\n",
       "      <td>27975.957031</td>\n",
       "      <td>27975.957031</td>\n",
       "      <td>27975.957031</td>\n",
       "      <td>0</td>\n",
       "    </tr>\n",
       "  </tbody>\n",
       "</table>\n",
       "<p>407 rows × 6 columns</p>\n",
       "</div>"
      ],
      "text/plain": [
       "                                   Open          High           Low  \\\n",
       "Datetime                                                              \n",
       "2023-05-01 00:00:00+00:00  29227.103516  29287.000000  29227.103516   \n",
       "2023-05-01 00:05:00+00:00  29286.732422  29323.433594  29286.732422   \n",
       "2023-05-01 00:10:00+00:00  29323.416016  29323.500000  29296.267578   \n",
       "2023-05-01 00:15:00+00:00  29302.458984  29329.484375  29302.458984   \n",
       "2023-05-01 00:20:00+00:00  29290.128906  29296.687500  29288.869141   \n",
       "...                                 ...           ...           ...   \n",
       "2023-05-02 09:30:00+00:00  27965.988281  27974.703125  27960.300781   \n",
       "2023-05-02 09:35:00+00:00  27974.177734  27998.437500  27974.177734   \n",
       "2023-05-02 09:40:00+00:00  27993.744141  28033.226562  27989.791016   \n",
       "2023-05-02 09:45:00+00:00  28012.082031  28012.082031  27994.173828   \n",
       "2023-05-02 09:50:00+00:00  27988.240234  27988.240234  27975.957031   \n",
       "\n",
       "                                  Close     Adj Close    Volume  \n",
       "Datetime                                                         \n",
       "2023-05-01 00:00:00+00:00  29248.242188  29248.242188         0  \n",
       "2023-05-01 00:05:00+00:00  29313.058594  29313.058594  69922816  \n",
       "2023-05-01 00:10:00+00:00  29296.267578  29296.267578  37208064  \n",
       "2023-05-01 00:15:00+00:00  29321.751953  29321.751953  47632384  \n",
       "2023-05-01 00:20:00+00:00  29295.902344  29295.902344   7828480  \n",
       "...                                 ...           ...       ...  \n",
       "2023-05-02 09:30:00+00:00  27974.703125  27974.703125  10704896  \n",
       "2023-05-02 09:35:00+00:00  27998.437500  27998.437500  33427456  \n",
       "2023-05-02 09:40:00+00:00  28033.226562  28033.226562  12164096  \n",
       "2023-05-02 09:45:00+00:00  27994.173828  27994.173828   4744192  \n",
       "2023-05-02 09:50:00+00:00  27975.957031  27975.957031         0  \n",
       "\n",
       "[407 rows x 6 columns]"
      ]
     },
     "execution_count": 92,
     "metadata": {},
     "output_type": "execute_result"
    }
   ],
   "source": [
    "df"
   ]
  },
  {
   "cell_type": "code",
   "execution_count": 93,
   "id": "2ed3bd26",
   "metadata": {},
   "outputs": [],
   "source": [
    "supports = df[df.Close == df.Close.rolling(5, center=True).min()].Close\n",
    "resistances = df[df.Close == df.Close.rolling(5, center=True).max()].Close"
   ]
  },
  {
   "cell_type": "code",
   "execution_count": 102,
   "id": "a7928c24",
   "metadata": {},
   "outputs": [],
   "source": [
    "levels = pd.concat([supports, resistances])"
   ]
  },
  {
   "cell_type": "code",
   "execution_count": 103,
   "id": "b8fad8ad",
   "metadata": {},
   "outputs": [
    {
     "data": {
      "text/plain": [
       "Datetime\n",
       "2023-05-01 00:20:00+00:00           NaN\n",
       "2023-05-01 00:40:00+00:00      6.029297\n",
       "2023-05-01 01:20:00+00:00    -71.144531\n",
       "2023-05-01 01:55:00+00:00   -737.427734\n",
       "2023-05-01 03:10:00+00:00     15.808594\n",
       "                                ...    \n",
       "2023-05-02 06:50:00+00:00    -16.812500\n",
       "2023-05-02 07:20:00+00:00     83.955078\n",
       "2023-05-02 08:10:00+00:00     18.988281\n",
       "2023-05-02 09:15:00+00:00    -67.453125\n",
       "2023-05-02 09:40:00+00:00    -15.537109\n",
       "Name: Close, Length: 111, dtype: float64"
      ]
     },
     "execution_count": 103,
     "metadata": {},
     "output_type": "execute_result"
    }
   ],
   "source": [
    "levels.diff()"
   ]
  },
  {
   "cell_type": "code",
   "execution_count": 107,
   "id": "07cb7ea6",
   "metadata": {},
   "outputs": [],
   "source": [
    "levels = levels[abs(levels.diff()) > 200]"
   ]
  },
  {
   "cell_type": "code",
   "execution_count": 108,
   "id": "a3d0e7aa",
   "metadata": {},
   "outputs": [
    {
     "data": {
      "text/plain": [
       "Datetime\n",
       "2023-05-01 15:25:00+00:00            NaN\n",
       "2023-05-01 19:15:00+00:00    -276.736328\n",
       "2023-05-01 21:45:00+00:00     111.015625\n",
       "2023-05-01 00:25:00+00:00    1349.066406\n",
       "2023-05-01 02:10:00+00:00    -653.841797\n",
       "2023-05-01 16:00:00+00:00    -448.294922\n",
       "Name: Close, dtype: float64"
      ]
     },
     "execution_count": 108,
     "metadata": {},
     "output_type": "execute_result"
    }
   ],
   "source": [
    "levels.diff()"
   ]
  },
  {
   "cell_type": "code",
   "execution_count": 109,
   "id": "b6796cef",
   "metadata": {},
   "outputs": [
    {
     "data": {
      "image/png": "[encoded data removed]",
      "text/plain": [
       "<Figure size 800x575 with 2 Axes>"
      ]
     },
     "metadata": {},
     "output_type": "display_data"
    }
   ],
   "source": [
    "mpf.plot(df, type='candle', hlines=levels.to_list(),style='charles')"
   ]
  },
  {
   "cell_type": "code",
   "execution_count": null,
   "id": "e3328a71",
   "metadata": {},
   "outputs": [],
   "source": [
    "\n"
   ]
  },
  {
   "cell_type": "code",
   "execution_count": null,
   "id": "a3fbfdfa",
   "metadata": {},
   "outputs": [],
   "source": []
  }
 ],
 "metadata": {
  "kernelspec": {
   "display_name": "Python 3 (ipykernel)",
   "language": "python",
   "name": "python3"
  },
  "language_info": {
   "codemirror_mode": {
    "name": "ipython",
    "version": 3
   },
   "file_extension": ".py",
   "mimetype": "text/x-python",
   "name": "python",
   "nbconvert_exporter": "python",
   "pygments_lexer": "ipython3",
   "version": "3.9.13"
  }
 },
 "nbformat": 4,
 "nbformat_minor": 5
}
