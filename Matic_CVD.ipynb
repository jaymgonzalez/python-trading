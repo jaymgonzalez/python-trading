{
 "cells": [
  {
   "cell_type": "code",
   "execution_count": 3,
   "id": "592a703e",
   "metadata": {},
   "outputs": [],
   "source": [
    "import pandas as pd"
   ]
  },
  {
   "cell_type": "code",
   "execution_count": 4,
   "id": "84a5b4f7",
   "metadata": {},
   "outputs": [
    {
     "data": {
      "text/html": [
       "<div>\n",
       "<style scoped>\n",
       "    .dataframe tbody tr th:only-of-type {\n",
       "        vertical-align: middle;\n",
       "    }\n",
       "\n",
       "    .dataframe tbody tr th {\n",
       "        vertical-align: top;\n",
       "    }\n",
       "\n",
       "    .dataframe thead th {\n",
       "        text-align: right;\n",
       "    }\n",
       "</style>\n",
       "<table border=\"1\" class=\"dataframe\">\n",
       "  <thead>\n",
       "    <tr style=\"text-align: right;\">\n",
       "      <th></th>\n",
       "      <th>id</th>\n",
       "      <th>price</th>\n",
       "      <th>qty</th>\n",
       "      <th>quote_qty</th>\n",
       "      <th>is_buyer_maker</th>\n",
       "      <th>is_best_match</th>\n",
       "    </tr>\n",
       "    <tr>\n",
       "      <th>time</th>\n",
       "      <th></th>\n",
       "      <th></th>\n",
       "      <th></th>\n",
       "      <th></th>\n",
       "      <th></th>\n",
       "      <th></th>\n",
       "    </tr>\n",
       "  </thead>\n",
       "  <tbody>\n",
       "    <tr>\n",
       "      <th>2023-02-01 00:00:04.085</th>\n",
       "      <td>311723510</td>\n",
       "      <td>1.1095</td>\n",
       "      <td>128.3</td>\n",
       "      <td>142.34885</td>\n",
       "      <td>False</td>\n",
       "      <td>True</td>\n",
       "    </tr>\n",
       "    <tr>\n",
       "      <th>2023-02-01 00:00:04.085</th>\n",
       "      <td>311723511</td>\n",
       "      <td>1.1095</td>\n",
       "      <td>22.9</td>\n",
       "      <td>25.40755</td>\n",
       "      <td>False</td>\n",
       "      <td>True</td>\n",
       "    </tr>\n",
       "    <tr>\n",
       "      <th>2023-02-01 00:00:04.085</th>\n",
       "      <td>311723512</td>\n",
       "      <td>1.1095</td>\n",
       "      <td>248.8</td>\n",
       "      <td>276.04360</td>\n",
       "      <td>False</td>\n",
       "      <td>True</td>\n",
       "    </tr>\n",
       "    <tr>\n",
       "      <th>2023-02-01 00:00:04.277</th>\n",
       "      <td>311723513</td>\n",
       "      <td>1.1096</td>\n",
       "      <td>18.0</td>\n",
       "      <td>19.97280</td>\n",
       "      <td>False</td>\n",
       "      <td>True</td>\n",
       "    </tr>\n",
       "    <tr>\n",
       "      <th>2023-02-01 00:00:06.254</th>\n",
       "      <td>311723514</td>\n",
       "      <td>1.1095</td>\n",
       "      <td>80.0</td>\n",
       "      <td>88.76000</td>\n",
       "      <td>True</td>\n",
       "      <td>True</td>\n",
       "    </tr>\n",
       "    <tr>\n",
       "      <th>...</th>\n",
       "      <td>...</td>\n",
       "      <td>...</td>\n",
       "      <td>...</td>\n",
       "      <td>...</td>\n",
       "      <td>...</td>\n",
       "      <td>...</td>\n",
       "    </tr>\n",
       "    <tr>\n",
       "      <th>2023-02-28 23:59:59.294</th>\n",
       "      <td>320568489</td>\n",
       "      <td>1.1963</td>\n",
       "      <td>37.9</td>\n",
       "      <td>45.33977</td>\n",
       "      <td>False</td>\n",
       "      <td>True</td>\n",
       "    </tr>\n",
       "    <tr>\n",
       "      <th>2023-02-28 23:59:59.294</th>\n",
       "      <td>320568490</td>\n",
       "      <td>1.1963</td>\n",
       "      <td>1870.4</td>\n",
       "      <td>2237.55952</td>\n",
       "      <td>False</td>\n",
       "      <td>True</td>\n",
       "    </tr>\n",
       "    <tr>\n",
       "      <th>2023-02-28 23:59:59.392</th>\n",
       "      <td>320568491</td>\n",
       "      <td>1.1964</td>\n",
       "      <td>365.6</td>\n",
       "      <td>437.40384</td>\n",
       "      <td>False</td>\n",
       "      <td>True</td>\n",
       "    </tr>\n",
       "    <tr>\n",
       "      <th>2023-02-28 23:59:59.392</th>\n",
       "      <td>320568492</td>\n",
       "      <td>1.1964</td>\n",
       "      <td>490.9</td>\n",
       "      <td>587.31276</td>\n",
       "      <td>False</td>\n",
       "      <td>True</td>\n",
       "    </tr>\n",
       "    <tr>\n",
       "      <th>2023-02-28 23:59:59.392</th>\n",
       "      <td>320568493</td>\n",
       "      <td>1.1964</td>\n",
       "      <td>354.6</td>\n",
       "      <td>424.24344</td>\n",
       "      <td>False</td>\n",
       "      <td>True</td>\n",
       "    </tr>\n",
       "  </tbody>\n",
       "</table>\n",
       "<p>8844984 rows × 6 columns</p>\n",
       "</div>"
      ],
      "text/plain": [
       "                                id   price     qty   quote_qty  \\\n",
       "time                                                             \n",
       "2023-02-01 00:00:04.085  311723510  1.1095   128.3   142.34885   \n",
       "2023-02-01 00:00:04.085  311723511  1.1095    22.9    25.40755   \n",
       "2023-02-01 00:00:04.085  311723512  1.1095   248.8   276.04360   \n",
       "2023-02-01 00:00:04.277  311723513  1.1096    18.0    19.97280   \n",
       "2023-02-01 00:00:06.254  311723514  1.1095    80.0    88.76000   \n",
       "...                            ...     ...     ...         ...   \n",
       "2023-02-28 23:59:59.294  320568489  1.1963    37.9    45.33977   \n",
       "2023-02-28 23:59:59.294  320568490  1.1963  1870.4  2237.55952   \n",
       "2023-02-28 23:59:59.392  320568491  1.1964   365.6   437.40384   \n",
       "2023-02-28 23:59:59.392  320568492  1.1964   490.9   587.31276   \n",
       "2023-02-28 23:59:59.392  320568493  1.1964   354.6   424.24344   \n",
       "\n",
       "                         is_buyer_maker  is_best_match  \n",
       "time                                                    \n",
       "2023-02-01 00:00:04.085           False           True  \n",
       "2023-02-01 00:00:04.085           False           True  \n",
       "2023-02-01 00:00:04.085           False           True  \n",
       "2023-02-01 00:00:04.277           False           True  \n",
       "2023-02-01 00:00:06.254            True           True  \n",
       "...                                 ...            ...  \n",
       "2023-02-28 23:59:59.294           False           True  \n",
       "2023-02-28 23:59:59.294           False           True  \n",
       "2023-02-28 23:59:59.392           False           True  \n",
       "2023-02-28 23:59:59.392           False           True  \n",
       "2023-02-28 23:59:59.392           False           True  \n",
       "\n",
       "[8844984 rows x 6 columns]"
      ]
     },
     "execution_count": 4,
     "metadata": {},
     "output_type": "execute_result"
    }
   ],
   "source": [
    "df = pd.read_csv('MATICUSDT-trades-2023-02.csv',\n",
    "                names=[\"id\",\"price\",\"qty\",\"quote_qty\",\"time\",\"is_buyer_maker\",\"is_best_match\"])\n",
    "df.time = pd.to_datetime(df.time, unit=\"ms\")\n",
    "df.set_index(\"time\", inplace=True)\n",
    "df"
   ]
  },
  {
   "cell_type": "code",
   "execution_count": 5,
   "id": "e994207b",
   "metadata": {},
   "outputs": [
    {
     "data": {
      "text/html": [
       "<div>\n",
       "<style scoped>\n",
       "    .dataframe tbody tr th:only-of-type {\n",
       "        vertical-align: middle;\n",
       "    }\n",
       "\n",
       "    .dataframe tbody tr th {\n",
       "        vertical-align: top;\n",
       "    }\n",
       "\n",
       "    .dataframe thead th {\n",
       "        text-align: right;\n",
       "    }\n",
       "</style>\n",
       "<table border=\"1\" class=\"dataframe\">\n",
       "  <thead>\n",
       "    <tr style=\"text-align: right;\">\n",
       "      <th></th>\n",
       "      <th>id</th>\n",
       "      <th>price</th>\n",
       "      <th>qty</th>\n",
       "      <th>quote_qty</th>\n",
       "      <th>is_buyer_maker</th>\n",
       "      <th>is_best_match</th>\n",
       "      <th>buy_vol</th>\n",
       "    </tr>\n",
       "    <tr>\n",
       "      <th>time</th>\n",
       "      <th></th>\n",
       "      <th></th>\n",
       "      <th></th>\n",
       "      <th></th>\n",
       "      <th></th>\n",
       "      <th></th>\n",
       "      <th></th>\n",
       "    </tr>\n",
       "  </thead>\n",
       "  <tbody>\n",
       "    <tr>\n",
       "      <th>2023-02-01 00:00:04.085</th>\n",
       "      <td>311723510</td>\n",
       "      <td>1.1095</td>\n",
       "      <td>128.3</td>\n",
       "      <td>142.34885</td>\n",
       "      <td>False</td>\n",
       "      <td>True</td>\n",
       "      <td>128.3</td>\n",
       "    </tr>\n",
       "    <tr>\n",
       "      <th>2023-02-01 00:00:04.085</th>\n",
       "      <td>311723511</td>\n",
       "      <td>1.1095</td>\n",
       "      <td>22.9</td>\n",
       "      <td>25.40755</td>\n",
       "      <td>False</td>\n",
       "      <td>True</td>\n",
       "      <td>22.9</td>\n",
       "    </tr>\n",
       "    <tr>\n",
       "      <th>2023-02-01 00:00:04.085</th>\n",
       "      <td>311723512</td>\n",
       "      <td>1.1095</td>\n",
       "      <td>248.8</td>\n",
       "      <td>276.04360</td>\n",
       "      <td>False</td>\n",
       "      <td>True</td>\n",
       "      <td>248.8</td>\n",
       "    </tr>\n",
       "    <tr>\n",
       "      <th>2023-02-01 00:00:04.277</th>\n",
       "      <td>311723513</td>\n",
       "      <td>1.1096</td>\n",
       "      <td>18.0</td>\n",
       "      <td>19.97280</td>\n",
       "      <td>False</td>\n",
       "      <td>True</td>\n",
       "      <td>18.0</td>\n",
       "    </tr>\n",
       "    <tr>\n",
       "      <th>2023-02-01 00:00:06.254</th>\n",
       "      <td>311723514</td>\n",
       "      <td>1.1095</td>\n",
       "      <td>80.0</td>\n",
       "      <td>88.76000</td>\n",
       "      <td>True</td>\n",
       "      <td>True</td>\n",
       "      <td>0.0</td>\n",
       "    </tr>\n",
       "    <tr>\n",
       "      <th>...</th>\n",
       "      <td>...</td>\n",
       "      <td>...</td>\n",
       "      <td>...</td>\n",
       "      <td>...</td>\n",
       "      <td>...</td>\n",
       "      <td>...</td>\n",
       "      <td>...</td>\n",
       "    </tr>\n",
       "    <tr>\n",
       "      <th>2023-02-28 23:59:59.294</th>\n",
       "      <td>320568489</td>\n",
       "      <td>1.1963</td>\n",
       "      <td>37.9</td>\n",
       "      <td>45.33977</td>\n",
       "      <td>False</td>\n",
       "      <td>True</td>\n",
       "      <td>37.9</td>\n",
       "    </tr>\n",
       "    <tr>\n",
       "      <th>2023-02-28 23:59:59.294</th>\n",
       "      <td>320568490</td>\n",
       "      <td>1.1963</td>\n",
       "      <td>1870.4</td>\n",
       "      <td>2237.55952</td>\n",
       "      <td>False</td>\n",
       "      <td>True</td>\n",
       "      <td>1870.4</td>\n",
       "    </tr>\n",
       "    <tr>\n",
       "      <th>2023-02-28 23:59:59.392</th>\n",
       "      <td>320568491</td>\n",
       "      <td>1.1964</td>\n",
       "      <td>365.6</td>\n",
       "      <td>437.40384</td>\n",
       "      <td>False</td>\n",
       "      <td>True</td>\n",
       "      <td>365.6</td>\n",
       "    </tr>\n",
       "    <tr>\n",
       "      <th>2023-02-28 23:59:59.392</th>\n",
       "      <td>320568492</td>\n",
       "      <td>1.1964</td>\n",
       "      <td>490.9</td>\n",
       "      <td>587.31276</td>\n",
       "      <td>False</td>\n",
       "      <td>True</td>\n",
       "      <td>490.9</td>\n",
       "    </tr>\n",
       "    <tr>\n",
       "      <th>2023-02-28 23:59:59.392</th>\n",
       "      <td>320568493</td>\n",
       "      <td>1.1964</td>\n",
       "      <td>354.6</td>\n",
       "      <td>424.24344</td>\n",
       "      <td>False</td>\n",
       "      <td>True</td>\n",
       "      <td>354.6</td>\n",
       "    </tr>\n",
       "  </tbody>\n",
       "</table>\n",
       "<p>8844984 rows × 7 columns</p>\n",
       "</div>"
      ],
      "text/plain": [
       "                                id   price     qty   quote_qty  \\\n",
       "time                                                             \n",
       "2023-02-01 00:00:04.085  311723510  1.1095   128.3   142.34885   \n",
       "2023-02-01 00:00:04.085  311723511  1.1095    22.9    25.40755   \n",
       "2023-02-01 00:00:04.085  311723512  1.1095   248.8   276.04360   \n",
       "2023-02-01 00:00:04.277  311723513  1.1096    18.0    19.97280   \n",
       "2023-02-01 00:00:06.254  311723514  1.1095    80.0    88.76000   \n",
       "...                            ...     ...     ...         ...   \n",
       "2023-02-28 23:59:59.294  320568489  1.1963    37.9    45.33977   \n",
       "2023-02-28 23:59:59.294  320568490  1.1963  1870.4  2237.55952   \n",
       "2023-02-28 23:59:59.392  320568491  1.1964   365.6   437.40384   \n",
       "2023-02-28 23:59:59.392  320568492  1.1964   490.9   587.31276   \n",
       "2023-02-28 23:59:59.392  320568493  1.1964   354.6   424.24344   \n",
       "\n",
       "                         is_buyer_maker  is_best_match  buy_vol  \n",
       "time                                                             \n",
       "2023-02-01 00:00:04.085           False           True    128.3  \n",
       "2023-02-01 00:00:04.085           False           True     22.9  \n",
       "2023-02-01 00:00:04.085           False           True    248.8  \n",
       "2023-02-01 00:00:04.277           False           True     18.0  \n",
       "2023-02-01 00:00:06.254            True           True      0.0  \n",
       "...                                 ...            ...      ...  \n",
       "2023-02-28 23:59:59.294           False           True     37.9  \n",
       "2023-02-28 23:59:59.294           False           True   1870.4  \n",
       "2023-02-28 23:59:59.392           False           True    365.6  \n",
       "2023-02-28 23:59:59.392           False           True    490.9  \n",
       "2023-02-28 23:59:59.392           False           True    354.6  \n",
       "\n",
       "[8844984 rows x 7 columns]"
      ]
     },
     "execution_count": 5,
     "metadata": {},
     "output_type": "execute_result"
    }
   ],
   "source": [
    "df[\"buy_vol\"] = df.qty * (1 - df[\"is_buyer_maker\"])\n",
    "df"
   ]
  },
  {
   "cell_type": "code",
   "execution_count": 6,
   "id": "bf01ca9e",
   "metadata": {},
   "outputs": [
    {
     "data": {
      "text/html": [
       "<div>\n",
       "<style scoped>\n",
       "    .dataframe tbody tr th:only-of-type {\n",
       "        vertical-align: middle;\n",
       "    }\n",
       "\n",
       "    .dataframe tbody tr th {\n",
       "        vertical-align: top;\n",
       "    }\n",
       "\n",
       "    .dataframe thead th {\n",
       "        text-align: right;\n",
       "    }\n",
       "</style>\n",
       "<table border=\"1\" class=\"dataframe\">\n",
       "  <thead>\n",
       "    <tr style=\"text-align: right;\">\n",
       "      <th></th>\n",
       "      <th>id</th>\n",
       "      <th>price</th>\n",
       "      <th>qty</th>\n",
       "      <th>quote_qty</th>\n",
       "      <th>is_buyer_maker</th>\n",
       "      <th>is_best_match</th>\n",
       "      <th>buy_vol</th>\n",
       "      <th>sell_vol</th>\n",
       "    </tr>\n",
       "    <tr>\n",
       "      <th>time</th>\n",
       "      <th></th>\n",
       "      <th></th>\n",
       "      <th></th>\n",
       "      <th></th>\n",
       "      <th></th>\n",
       "      <th></th>\n",
       "      <th></th>\n",
       "      <th></th>\n",
       "    </tr>\n",
       "  </thead>\n",
       "  <tbody>\n",
       "    <tr>\n",
       "      <th>2023-02-01 00:00:04.085</th>\n",
       "      <td>311723510</td>\n",
       "      <td>1.1095</td>\n",
       "      <td>128.3</td>\n",
       "      <td>142.34885</td>\n",
       "      <td>False</td>\n",
       "      <td>True</td>\n",
       "      <td>128.3</td>\n",
       "      <td>0.0</td>\n",
       "    </tr>\n",
       "    <tr>\n",
       "      <th>2023-02-01 00:00:04.085</th>\n",
       "      <td>311723511</td>\n",
       "      <td>1.1095</td>\n",
       "      <td>22.9</td>\n",
       "      <td>25.40755</td>\n",
       "      <td>False</td>\n",
       "      <td>True</td>\n",
       "      <td>22.9</td>\n",
       "      <td>0.0</td>\n",
       "    </tr>\n",
       "    <tr>\n",
       "      <th>2023-02-01 00:00:04.085</th>\n",
       "      <td>311723512</td>\n",
       "      <td>1.1095</td>\n",
       "      <td>248.8</td>\n",
       "      <td>276.04360</td>\n",
       "      <td>False</td>\n",
       "      <td>True</td>\n",
       "      <td>248.8</td>\n",
       "      <td>0.0</td>\n",
       "    </tr>\n",
       "    <tr>\n",
       "      <th>2023-02-01 00:00:04.277</th>\n",
       "      <td>311723513</td>\n",
       "      <td>1.1096</td>\n",
       "      <td>18.0</td>\n",
       "      <td>19.97280</td>\n",
       "      <td>False</td>\n",
       "      <td>True</td>\n",
       "      <td>18.0</td>\n",
       "      <td>0.0</td>\n",
       "    </tr>\n",
       "    <tr>\n",
       "      <th>2023-02-01 00:00:06.254</th>\n",
       "      <td>311723514</td>\n",
       "      <td>1.1095</td>\n",
       "      <td>80.0</td>\n",
       "      <td>88.76000</td>\n",
       "      <td>True</td>\n",
       "      <td>True</td>\n",
       "      <td>0.0</td>\n",
       "      <td>80.0</td>\n",
       "    </tr>\n",
       "    <tr>\n",
       "      <th>...</th>\n",
       "      <td>...</td>\n",
       "      <td>...</td>\n",
       "      <td>...</td>\n",
       "      <td>...</td>\n",
       "      <td>...</td>\n",
       "      <td>...</td>\n",
       "      <td>...</td>\n",
       "      <td>...</td>\n",
       "    </tr>\n",
       "    <tr>\n",
       "      <th>2023-02-28 23:59:59.294</th>\n",
       "      <td>320568489</td>\n",
       "      <td>1.1963</td>\n",
       "      <td>37.9</td>\n",
       "      <td>45.33977</td>\n",
       "      <td>False</td>\n",
       "      <td>True</td>\n",
       "      <td>37.9</td>\n",
       "      <td>0.0</td>\n",
       "    </tr>\n",
       "    <tr>\n",
       "      <th>2023-02-28 23:59:59.294</th>\n",
       "      <td>320568490</td>\n",
       "      <td>1.1963</td>\n",
       "      <td>1870.4</td>\n",
       "      <td>2237.55952</td>\n",
       "      <td>False</td>\n",
       "      <td>True</td>\n",
       "      <td>1870.4</td>\n",
       "      <td>0.0</td>\n",
       "    </tr>\n",
       "    <tr>\n",
       "      <th>2023-02-28 23:59:59.392</th>\n",
       "      <td>320568491</td>\n",
       "      <td>1.1964</td>\n",
       "      <td>365.6</td>\n",
       "      <td>437.40384</td>\n",
       "      <td>False</td>\n",
       "      <td>True</td>\n",
       "      <td>365.6</td>\n",
       "      <td>0.0</td>\n",
       "    </tr>\n",
       "    <tr>\n",
       "      <th>2023-02-28 23:59:59.392</th>\n",
       "      <td>320568492</td>\n",
       "      <td>1.1964</td>\n",
       "      <td>490.9</td>\n",
       "      <td>587.31276</td>\n",
       "      <td>False</td>\n",
       "      <td>True</td>\n",
       "      <td>490.9</td>\n",
       "      <td>0.0</td>\n",
       "    </tr>\n",
       "    <tr>\n",
       "      <th>2023-02-28 23:59:59.392</th>\n",
       "      <td>320568493</td>\n",
       "      <td>1.1964</td>\n",
       "      <td>354.6</td>\n",
       "      <td>424.24344</td>\n",
       "      <td>False</td>\n",
       "      <td>True</td>\n",
       "      <td>354.6</td>\n",
       "      <td>0.0</td>\n",
       "    </tr>\n",
       "  </tbody>\n",
       "</table>\n",
       "<p>8844984 rows × 8 columns</p>\n",
       "</div>"
      ],
      "text/plain": [
       "                                id   price     qty   quote_qty  \\\n",
       "time                                                             \n",
       "2023-02-01 00:00:04.085  311723510  1.1095   128.3   142.34885   \n",
       "2023-02-01 00:00:04.085  311723511  1.1095    22.9    25.40755   \n",
       "2023-02-01 00:00:04.085  311723512  1.1095   248.8   276.04360   \n",
       "2023-02-01 00:00:04.277  311723513  1.1096    18.0    19.97280   \n",
       "2023-02-01 00:00:06.254  311723514  1.1095    80.0    88.76000   \n",
       "...                            ...     ...     ...         ...   \n",
       "2023-02-28 23:59:59.294  320568489  1.1963    37.9    45.33977   \n",
       "2023-02-28 23:59:59.294  320568490  1.1963  1870.4  2237.55952   \n",
       "2023-02-28 23:59:59.392  320568491  1.1964   365.6   437.40384   \n",
       "2023-02-28 23:59:59.392  320568492  1.1964   490.9   587.31276   \n",
       "2023-02-28 23:59:59.392  320568493  1.1964   354.6   424.24344   \n",
       "\n",
       "                         is_buyer_maker  is_best_match  buy_vol  sell_vol  \n",
       "time                                                                       \n",
       "2023-02-01 00:00:04.085           False           True    128.3       0.0  \n",
       "2023-02-01 00:00:04.085           False           True     22.9       0.0  \n",
       "2023-02-01 00:00:04.085           False           True    248.8       0.0  \n",
       "2023-02-01 00:00:04.277           False           True     18.0       0.0  \n",
       "2023-02-01 00:00:06.254            True           True      0.0      80.0  \n",
       "...                                 ...            ...      ...       ...  \n",
       "2023-02-28 23:59:59.294           False           True     37.9       0.0  \n",
       "2023-02-28 23:59:59.294           False           True   1870.4       0.0  \n",
       "2023-02-28 23:59:59.392           False           True    365.6       0.0  \n",
       "2023-02-28 23:59:59.392           False           True    490.9       0.0  \n",
       "2023-02-28 23:59:59.392           False           True    354.6       0.0  \n",
       "\n",
       "[8844984 rows x 8 columns]"
      ]
     },
     "execution_count": 6,
     "metadata": {},
     "output_type": "execute_result"
    }
   ],
   "source": [
    "df[\"sell_vol\"] = df.qty * df[\"is_buyer_maker\"]\n",
    "df"
   ]
  },
  {
   "cell_type": "code",
   "execution_count": 7,
   "id": "f0235e33",
   "metadata": {},
   "outputs": [
    {
     "data": {
      "text/html": [
       "<div>\n",
       "<style scoped>\n",
       "    .dataframe tbody tr th:only-of-type {\n",
       "        vertical-align: middle;\n",
       "    }\n",
       "\n",
       "    .dataframe tbody tr th {\n",
       "        vertical-align: top;\n",
       "    }\n",
       "\n",
       "    .dataframe thead th {\n",
       "        text-align: right;\n",
       "    }\n",
       "</style>\n",
       "<table border=\"1\" class=\"dataframe\">\n",
       "  <thead>\n",
       "    <tr style=\"text-align: right;\">\n",
       "      <th></th>\n",
       "      <th>id</th>\n",
       "      <th>price</th>\n",
       "      <th>qty</th>\n",
       "      <th>quote_qty</th>\n",
       "      <th>is_buyer_maker</th>\n",
       "      <th>is_best_match</th>\n",
       "      <th>buy_vol</th>\n",
       "      <th>sell_vol</th>\n",
       "      <th>vol_delta</th>\n",
       "    </tr>\n",
       "    <tr>\n",
       "      <th>time</th>\n",
       "      <th></th>\n",
       "      <th></th>\n",
       "      <th></th>\n",
       "      <th></th>\n",
       "      <th></th>\n",
       "      <th></th>\n",
       "      <th></th>\n",
       "      <th></th>\n",
       "      <th></th>\n",
       "    </tr>\n",
       "  </thead>\n",
       "  <tbody>\n",
       "    <tr>\n",
       "      <th>2023-02-01 00:00:04.085</th>\n",
       "      <td>311723510</td>\n",
       "      <td>1.1095</td>\n",
       "      <td>128.3</td>\n",
       "      <td>142.34885</td>\n",
       "      <td>False</td>\n",
       "      <td>True</td>\n",
       "      <td>128.3</td>\n",
       "      <td>0.0</td>\n",
       "      <td>128.3</td>\n",
       "    </tr>\n",
       "    <tr>\n",
       "      <th>2023-02-01 00:00:04.085</th>\n",
       "      <td>311723511</td>\n",
       "      <td>1.1095</td>\n",
       "      <td>22.9</td>\n",
       "      <td>25.40755</td>\n",
       "      <td>False</td>\n",
       "      <td>True</td>\n",
       "      <td>22.9</td>\n",
       "      <td>0.0</td>\n",
       "      <td>22.9</td>\n",
       "    </tr>\n",
       "    <tr>\n",
       "      <th>2023-02-01 00:00:04.085</th>\n",
       "      <td>311723512</td>\n",
       "      <td>1.1095</td>\n",
       "      <td>248.8</td>\n",
       "      <td>276.04360</td>\n",
       "      <td>False</td>\n",
       "      <td>True</td>\n",
       "      <td>248.8</td>\n",
       "      <td>0.0</td>\n",
       "      <td>248.8</td>\n",
       "    </tr>\n",
       "    <tr>\n",
       "      <th>2023-02-01 00:00:04.277</th>\n",
       "      <td>311723513</td>\n",
       "      <td>1.1096</td>\n",
       "      <td>18.0</td>\n",
       "      <td>19.97280</td>\n",
       "      <td>False</td>\n",
       "      <td>True</td>\n",
       "      <td>18.0</td>\n",
       "      <td>0.0</td>\n",
       "      <td>18.0</td>\n",
       "    </tr>\n",
       "    <tr>\n",
       "      <th>2023-02-01 00:00:06.254</th>\n",
       "      <td>311723514</td>\n",
       "      <td>1.1095</td>\n",
       "      <td>80.0</td>\n",
       "      <td>88.76000</td>\n",
       "      <td>True</td>\n",
       "      <td>True</td>\n",
       "      <td>0.0</td>\n",
       "      <td>80.0</td>\n",
       "      <td>-80.0</td>\n",
       "    </tr>\n",
       "    <tr>\n",
       "      <th>...</th>\n",
       "      <td>...</td>\n",
       "      <td>...</td>\n",
       "      <td>...</td>\n",
       "      <td>...</td>\n",
       "      <td>...</td>\n",
       "      <td>...</td>\n",
       "      <td>...</td>\n",
       "      <td>...</td>\n",
       "      <td>...</td>\n",
       "    </tr>\n",
       "    <tr>\n",
       "      <th>2023-02-28 23:59:59.294</th>\n",
       "      <td>320568489</td>\n",
       "      <td>1.1963</td>\n",
       "      <td>37.9</td>\n",
       "      <td>45.33977</td>\n",
       "      <td>False</td>\n",
       "      <td>True</td>\n",
       "      <td>37.9</td>\n",
       "      <td>0.0</td>\n",
       "      <td>37.9</td>\n",
       "    </tr>\n",
       "    <tr>\n",
       "      <th>2023-02-28 23:59:59.294</th>\n",
       "      <td>320568490</td>\n",
       "      <td>1.1963</td>\n",
       "      <td>1870.4</td>\n",
       "      <td>2237.55952</td>\n",
       "      <td>False</td>\n",
       "      <td>True</td>\n",
       "      <td>1870.4</td>\n",
       "      <td>0.0</td>\n",
       "      <td>1870.4</td>\n",
       "    </tr>\n",
       "    <tr>\n",
       "      <th>2023-02-28 23:59:59.392</th>\n",
       "      <td>320568491</td>\n",
       "      <td>1.1964</td>\n",
       "      <td>365.6</td>\n",
       "      <td>437.40384</td>\n",
       "      <td>False</td>\n",
       "      <td>True</td>\n",
       "      <td>365.6</td>\n",
       "      <td>0.0</td>\n",
       "      <td>365.6</td>\n",
       "    </tr>\n",
       "    <tr>\n",
       "      <th>2023-02-28 23:59:59.392</th>\n",
       "      <td>320568492</td>\n",
       "      <td>1.1964</td>\n",
       "      <td>490.9</td>\n",
       "      <td>587.31276</td>\n",
       "      <td>False</td>\n",
       "      <td>True</td>\n",
       "      <td>490.9</td>\n",
       "      <td>0.0</td>\n",
       "      <td>490.9</td>\n",
       "    </tr>\n",
       "    <tr>\n",
       "      <th>2023-02-28 23:59:59.392</th>\n",
       "      <td>320568493</td>\n",
       "      <td>1.1964</td>\n",
       "      <td>354.6</td>\n",
       "      <td>424.24344</td>\n",
       "      <td>False</td>\n",
       "      <td>True</td>\n",
       "      <td>354.6</td>\n",
       "      <td>0.0</td>\n",
       "      <td>354.6</td>\n",
       "    </tr>\n",
       "  </tbody>\n",
       "</table>\n",
       "<p>8844984 rows × 9 columns</p>\n",
       "</div>"
      ],
      "text/plain": [
       "                                id   price     qty   quote_qty  \\\n",
       "time                                                             \n",
       "2023-02-01 00:00:04.085  311723510  1.1095   128.3   142.34885   \n",
       "2023-02-01 00:00:04.085  311723511  1.1095    22.9    25.40755   \n",
       "2023-02-01 00:00:04.085  311723512  1.1095   248.8   276.04360   \n",
       "2023-02-01 00:00:04.277  311723513  1.1096    18.0    19.97280   \n",
       "2023-02-01 00:00:06.254  311723514  1.1095    80.0    88.76000   \n",
       "...                            ...     ...     ...         ...   \n",
       "2023-02-28 23:59:59.294  320568489  1.1963    37.9    45.33977   \n",
       "2023-02-28 23:59:59.294  320568490  1.1963  1870.4  2237.55952   \n",
       "2023-02-28 23:59:59.392  320568491  1.1964   365.6   437.40384   \n",
       "2023-02-28 23:59:59.392  320568492  1.1964   490.9   587.31276   \n",
       "2023-02-28 23:59:59.392  320568493  1.1964   354.6   424.24344   \n",
       "\n",
       "                         is_buyer_maker  is_best_match  buy_vol  sell_vol  \\\n",
       "time                                                                        \n",
       "2023-02-01 00:00:04.085           False           True    128.3       0.0   \n",
       "2023-02-01 00:00:04.085           False           True     22.9       0.0   \n",
       "2023-02-01 00:00:04.085           False           True    248.8       0.0   \n",
       "2023-02-01 00:00:04.277           False           True     18.0       0.0   \n",
       "2023-02-01 00:00:06.254            True           True      0.0      80.0   \n",
       "...                                 ...            ...      ...       ...   \n",
       "2023-02-28 23:59:59.294           False           True     37.9       0.0   \n",
       "2023-02-28 23:59:59.294           False           True   1870.4       0.0   \n",
       "2023-02-28 23:59:59.392           False           True    365.6       0.0   \n",
       "2023-02-28 23:59:59.392           False           True    490.9       0.0   \n",
       "2023-02-28 23:59:59.392           False           True    354.6       0.0   \n",
       "\n",
       "                         vol_delta  \n",
       "time                                \n",
       "2023-02-01 00:00:04.085      128.3  \n",
       "2023-02-01 00:00:04.085       22.9  \n",
       "2023-02-01 00:00:04.085      248.8  \n",
       "2023-02-01 00:00:04.277       18.0  \n",
       "2023-02-01 00:00:06.254      -80.0  \n",
       "...                            ...  \n",
       "2023-02-28 23:59:59.294       37.9  \n",
       "2023-02-28 23:59:59.294     1870.4  \n",
       "2023-02-28 23:59:59.392      365.6  \n",
       "2023-02-28 23:59:59.392      490.9  \n",
       "2023-02-28 23:59:59.392      354.6  \n",
       "\n",
       "[8844984 rows x 9 columns]"
      ]
     },
     "execution_count": 7,
     "metadata": {},
     "output_type": "execute_result"
    }
   ],
   "source": [
    "df[\"vol_delta\"] = df[\"buy_vol\"] - df[\"sell_vol\"]\n",
    "\n",
    "df"
   ]
  },
  {
   "cell_type": "code",
   "execution_count": 8,
   "id": "144c7e72",
   "metadata": {},
   "outputs": [
    {
     "data": {
      "text/plain": [
       "time\n",
       "2023-02-01 00:00:04.085     128.3\n",
       "2023-02-01 00:00:04.085      22.9\n",
       "2023-02-01 00:00:04.085     248.8\n",
       "2023-02-01 00:00:04.277      18.0\n",
       "2023-02-01 00:00:06.254     -80.0\n",
       "                            ...  \n",
       "2023-02-28 23:59:59.294      37.9\n",
       "2023-02-28 23:59:59.294    1870.4\n",
       "2023-02-28 23:59:59.392     365.6\n",
       "2023-02-28 23:59:59.392     490.9\n",
       "2023-02-28 23:59:59.392     354.6\n",
       "Name: vol_delta, Length: 8844984, dtype: float64"
      ]
     },
     "execution_count": 8,
     "metadata": {},
     "output_type": "execute_result"
    }
   ],
   "source": [
    "vol_delta = df[\"vol_delta\"]\n",
    "vol_delta"
   ]
  },
  {
   "cell_type": "code",
   "execution_count": 9,
   "id": "23b5419b",
   "metadata": {},
   "outputs": [
    {
     "data": {
      "text/plain": [
       "time\n",
       "2023-02-01 00:00:04.085         128.3\n",
       "2023-02-01 00:00:04.085         151.2\n",
       "2023-02-01 00:00:04.085         400.0\n",
       "2023-02-01 00:00:04.277         418.0\n",
       "2023-02-01 00:00:06.254         338.0\n",
       "                              ...    \n",
       "2023-02-28 23:59:59.294   -17646312.4\n",
       "2023-02-28 23:59:59.294   -17644442.0\n",
       "2023-02-28 23:59:59.392   -17644076.4\n",
       "2023-02-28 23:59:59.392   -17643585.5\n",
       "2023-02-28 23:59:59.392   -17643230.9\n",
       "Name: vol_delta, Length: 8844984, dtype: float64"
      ]
     },
     "execution_count": 9,
     "metadata": {},
     "output_type": "execute_result"
    }
   ],
   "source": [
    "cvd = vol_delta.groupby(pd.Grouper(freq=\"7D\")).cumsum()\n",
    "cvd"
   ]
  },
  {
   "cell_type": "code",
   "execution_count": 10,
   "id": "3e583686",
   "metadata": {},
   "outputs": [
    {
     "data": {
      "text/html": [
       "<div>\n",
       "<style scoped>\n",
       "    .dataframe tbody tr th:only-of-type {\n",
       "        vertical-align: middle;\n",
       "    }\n",
       "\n",
       "    .dataframe tbody tr th {\n",
       "        vertical-align: top;\n",
       "    }\n",
       "\n",
       "    .dataframe thead th {\n",
       "        text-align: right;\n",
       "    }\n",
       "</style>\n",
       "<table border=\"1\" class=\"dataframe\">\n",
       "  <thead>\n",
       "    <tr style=\"text-align: right;\">\n",
       "      <th></th>\n",
       "      <th>high</th>\n",
       "      <th>low</th>\n",
       "      <th>open</th>\n",
       "      <th>close</th>\n",
       "    </tr>\n",
       "    <tr>\n",
       "      <th>time</th>\n",
       "      <th></th>\n",
       "      <th></th>\n",
       "      <th></th>\n",
       "      <th></th>\n",
       "    </tr>\n",
       "  </thead>\n",
       "  <tbody>\n",
       "    <tr>\n",
       "      <th>2023-02-01</th>\n",
       "      <td>1969978.4</td>\n",
       "      <td>-1308658.0</td>\n",
       "      <td>128.3</td>\n",
       "      <td>1857195.7</td>\n",
       "    </tr>\n",
       "    <tr>\n",
       "      <th>2023-02-02</th>\n",
       "      <td>4862203.2</td>\n",
       "      <td>1681469.0</td>\n",
       "      <td>1854593.9</td>\n",
       "      <td>3398230.0</td>\n",
       "    </tr>\n",
       "    <tr>\n",
       "      <th>2023-02-03</th>\n",
       "      <td>3534951.6</td>\n",
       "      <td>477923.5</td>\n",
       "      <td>3398462.4</td>\n",
       "      <td>1089913.8</td>\n",
       "    </tr>\n",
       "    <tr>\n",
       "      <th>2023-02-04</th>\n",
       "      <td>1279358.7</td>\n",
       "      <td>-1891422.5</td>\n",
       "      <td>1090017.6</td>\n",
       "      <td>-1891422.5</td>\n",
       "    </tr>\n",
       "    <tr>\n",
       "      <th>2023-02-05</th>\n",
       "      <td>-1850472.9</td>\n",
       "      <td>-8874046.4</td>\n",
       "      <td>-1891982.7</td>\n",
       "      <td>-8798230.1</td>\n",
       "    </tr>\n",
       "    <tr>\n",
       "      <th>2023-02-06</th>\n",
       "      <td>-8681910.6</td>\n",
       "      <td>-11185739.0</td>\n",
       "      <td>-8798115.1</td>\n",
       "      <td>-10987029.2</td>\n",
       "    </tr>\n",
       "    <tr>\n",
       "      <th>2023-02-07</th>\n",
       "      <td>-10718009.8</td>\n",
       "      <td>-12120492.1</td>\n",
       "      <td>-10987705.5</td>\n",
       "      <td>-11086393.4</td>\n",
       "    </tr>\n",
       "    <tr>\n",
       "      <th>2023-02-08</th>\n",
       "      <td>1463091.1</td>\n",
       "      <td>-866539.1</td>\n",
       "      <td>-17.0</td>\n",
       "      <td>375105.9</td>\n",
       "    </tr>\n",
       "    <tr>\n",
       "      <th>2023-02-09</th>\n",
       "      <td>1733939.9</td>\n",
       "      <td>-2170108.0</td>\n",
       "      <td>375173.9</td>\n",
       "      <td>-1267466.6</td>\n",
       "    </tr>\n",
       "    <tr>\n",
       "      <th>2023-02-10</th>\n",
       "      <td>-820520.5</td>\n",
       "      <td>-6729684.1</td>\n",
       "      <td>-1267581.2</td>\n",
       "      <td>-6714954.7</td>\n",
       "    </tr>\n",
       "    <tr>\n",
       "      <th>2023-02-11</th>\n",
       "      <td>-6715060.4</td>\n",
       "      <td>-10147096.0</td>\n",
       "      <td>-6715060.4</td>\n",
       "      <td>-9982170.6</td>\n",
       "    </tr>\n",
       "    <tr>\n",
       "      <th>2023-02-12</th>\n",
       "      <td>-9800254.4</td>\n",
       "      <td>-11253514.0</td>\n",
       "      <td>-9981990.6</td>\n",
       "      <td>-11068561.9</td>\n",
       "    </tr>\n",
       "    <tr>\n",
       "      <th>2023-02-13</th>\n",
       "      <td>-10702349.6</td>\n",
       "      <td>-17563281.0</td>\n",
       "      <td>-11068440.1</td>\n",
       "      <td>-17373788.7</td>\n",
       "    </tr>\n",
       "    <tr>\n",
       "      <th>2023-02-14</th>\n",
       "      <td>-15167999.2</td>\n",
       "      <td>-20676876.6</td>\n",
       "      <td>-17374188.7</td>\n",
       "      <td>-15400989.4</td>\n",
       "    </tr>\n",
       "    <tr>\n",
       "      <th>2023-02-15</th>\n",
       "      <td>3224603.2</td>\n",
       "      <td>-584033.6</td>\n",
       "      <td>16.8</td>\n",
       "      <td>3157051.2</td>\n",
       "    </tr>\n",
       "    <tr>\n",
       "      <th>2023-02-16</th>\n",
       "      <td>6941482.7</td>\n",
       "      <td>1674136.5</td>\n",
       "      <td>3157062.4</td>\n",
       "      <td>3388581.1</td>\n",
       "    </tr>\n",
       "    <tr>\n",
       "      <th>2023-02-17</th>\n",
       "      <td>7642842.0</td>\n",
       "      <td>3332616.1</td>\n",
       "      <td>3390951.5</td>\n",
       "      <td>6323617.0</td>\n",
       "    </tr>\n",
       "    <tr>\n",
       "      <th>2023-02-18</th>\n",
       "      <td>8290590.5</td>\n",
       "      <td>6126997.7</td>\n",
       "      <td>6323577.0</td>\n",
       "      <td>6521552.9</td>\n",
       "    </tr>\n",
       "    <tr>\n",
       "      <th>2023-02-19</th>\n",
       "      <td>6658405.4</td>\n",
       "      <td>3796985.7</td>\n",
       "      <td>6521732.9</td>\n",
       "      <td>3925458.6</td>\n",
       "    </tr>\n",
       "    <tr>\n",
       "      <th>2023-02-20</th>\n",
       "      <td>4091537.4</td>\n",
       "      <td>754654.9</td>\n",
       "      <td>3925469.4</td>\n",
       "      <td>1156327.0</td>\n",
       "    </tr>\n",
       "    <tr>\n",
       "      <th>2023-02-21</th>\n",
       "      <td>1507455.1</td>\n",
       "      <td>-2957905.8</td>\n",
       "      <td>1156256.4</td>\n",
       "      <td>-2932807.8</td>\n",
       "    </tr>\n",
       "    <tr>\n",
       "      <th>2023-02-22</th>\n",
       "      <td>330720.9</td>\n",
       "      <td>-3046487.1</td>\n",
       "      <td>-210.4</td>\n",
       "      <td>-908116.5</td>\n",
       "    </tr>\n",
       "    <tr>\n",
       "      <th>2023-02-23</th>\n",
       "      <td>577767.9</td>\n",
       "      <td>-4009145.6</td>\n",
       "      <td>-908070.3</td>\n",
       "      <td>-3911751.8</td>\n",
       "    </tr>\n",
       "    <tr>\n",
       "      <th>2023-02-24</th>\n",
       "      <td>-3807550.6</td>\n",
       "      <td>-12228209.5</td>\n",
       "      <td>-3911439.7</td>\n",
       "      <td>-10395328.8</td>\n",
       "    </tr>\n",
       "    <tr>\n",
       "      <th>2023-02-25</th>\n",
       "      <td>-10288018.6</td>\n",
       "      <td>-11784660.0</td>\n",
       "      <td>-10397744.7</td>\n",
       "      <td>-11434727.5</td>\n",
       "    </tr>\n",
       "    <tr>\n",
       "      <th>2023-02-26</th>\n",
       "      <td>-10985271.9</td>\n",
       "      <td>-12705055.0</td>\n",
       "      <td>-11434692.2</td>\n",
       "      <td>-11000394.8</td>\n",
       "    </tr>\n",
       "    <tr>\n",
       "      <th>2023-02-27</th>\n",
       "      <td>-10788691.1</td>\n",
       "      <td>-14978954.2</td>\n",
       "      <td>-11000369.5</td>\n",
       "      <td>-13739323.5</td>\n",
       "    </tr>\n",
       "    <tr>\n",
       "      <th>2023-02-28</th>\n",
       "      <td>-12809706.6</td>\n",
       "      <td>-17671969.7</td>\n",
       "      <td>-13739271.2</td>\n",
       "      <td>-17643230.9</td>\n",
       "    </tr>\n",
       "  </tbody>\n",
       "</table>\n",
       "</div>"
      ],
      "text/plain": [
       "                  high         low        open       close\n",
       "time                                                      \n",
       "2023-02-01   1969978.4  -1308658.0       128.3   1857195.7\n",
       "2023-02-02   4862203.2   1681469.0   1854593.9   3398230.0\n",
       "2023-02-03   3534951.6    477923.5   3398462.4   1089913.8\n",
       "2023-02-04   1279358.7  -1891422.5   1090017.6  -1891422.5\n",
       "2023-02-05  -1850472.9  -8874046.4  -1891982.7  -8798230.1\n",
       "2023-02-06  -8681910.6 -11185739.0  -8798115.1 -10987029.2\n",
       "2023-02-07 -10718009.8 -12120492.1 -10987705.5 -11086393.4\n",
       "2023-02-08   1463091.1   -866539.1       -17.0    375105.9\n",
       "2023-02-09   1733939.9  -2170108.0    375173.9  -1267466.6\n",
       "2023-02-10   -820520.5  -6729684.1  -1267581.2  -6714954.7\n",
       "2023-02-11  -6715060.4 -10147096.0  -6715060.4  -9982170.6\n",
       "2023-02-12  -9800254.4 -11253514.0  -9981990.6 -11068561.9\n",
       "2023-02-13 -10702349.6 -17563281.0 -11068440.1 -17373788.7\n",
       "2023-02-14 -15167999.2 -20676876.6 -17374188.7 -15400989.4\n",
       "2023-02-15   3224603.2   -584033.6        16.8   3157051.2\n",
       "2023-02-16   6941482.7   1674136.5   3157062.4   3388581.1\n",
       "2023-02-17   7642842.0   3332616.1   3390951.5   6323617.0\n",
       "2023-02-18   8290590.5   6126997.7   6323577.0   6521552.9\n",
       "2023-02-19   6658405.4   3796985.7   6521732.9   3925458.6\n",
       "2023-02-20   4091537.4    754654.9   3925469.4   1156327.0\n",
       "2023-02-21   1507455.1  -2957905.8   1156256.4  -2932807.8\n",
       "2023-02-22    330720.9  -3046487.1      -210.4   -908116.5\n",
       "2023-02-23    577767.9  -4009145.6   -908070.3  -3911751.8\n",
       "2023-02-24  -3807550.6 -12228209.5  -3911439.7 -10395328.8\n",
       "2023-02-25 -10288018.6 -11784660.0 -10397744.7 -11434727.5\n",
       "2023-02-26 -10985271.9 -12705055.0 -11434692.2 -11000394.8\n",
       "2023-02-27 -10788691.1 -14978954.2 -11000369.5 -13739323.5\n",
       "2023-02-28 -12809706.6 -17671969.7 -13739271.2 -17643230.9"
      ]
     },
     "execution_count": 10,
     "metadata": {},
     "output_type": "execute_result"
    }
   ],
   "source": [
    "cvd_candles = cvd.resample(\"1D\").agg([\"max\",\"min\",\"first\",\"last\"])\n",
    "cvd_candles.columns = [\"high\",\"low\",\"open\",\"close\"]\n",
    "cvd_candles"
   ]
  },
  {
   "cell_type": "code",
   "execution_count": 11,
   "id": "93bae49f",
   "metadata": {},
   "outputs": [
    {
     "data": {
      "text/html": [
       "<div>\n",
       "<style scoped>\n",
       "    .dataframe tbody tr th:only-of-type {\n",
       "        vertical-align: middle;\n",
       "    }\n",
       "\n",
       "    .dataframe tbody tr th {\n",
       "        vertical-align: top;\n",
       "    }\n",
       "\n",
       "    .dataframe thead th {\n",
       "        text-align: right;\n",
       "    }\n",
       "</style>\n",
       "<table border=\"1\" class=\"dataframe\">\n",
       "  <thead>\n",
       "    <tr style=\"text-align: right;\">\n",
       "      <th></th>\n",
       "      <th>high</th>\n",
       "      <th>low</th>\n",
       "      <th>open</th>\n",
       "      <th>close</th>\n",
       "    </tr>\n",
       "    <tr>\n",
       "      <th>time</th>\n",
       "      <th></th>\n",
       "      <th></th>\n",
       "      <th></th>\n",
       "      <th></th>\n",
       "    </tr>\n",
       "  </thead>\n",
       "  <tbody>\n",
       "    <tr>\n",
       "      <th>2023-02-01</th>\n",
       "      <td>1.2056</td>\n",
       "      <td>1.0677</td>\n",
       "      <td>1.1095</td>\n",
       "      <td>1.1937</td>\n",
       "    </tr>\n",
       "    <tr>\n",
       "      <th>2023-02-02</th>\n",
       "      <td>1.2571</td>\n",
       "      <td>1.1745</td>\n",
       "      <td>1.1937</td>\n",
       "      <td>1.1810</td>\n",
       "    </tr>\n",
       "    <tr>\n",
       "      <th>2023-02-03</th>\n",
       "      <td>1.2538</td>\n",
       "      <td>1.1662</td>\n",
       "      <td>1.1813</td>\n",
       "      <td>1.2460</td>\n",
       "    </tr>\n",
       "    <tr>\n",
       "      <th>2023-02-04</th>\n",
       "      <td>1.2841</td>\n",
       "      <td>1.2155</td>\n",
       "      <td>1.2458</td>\n",
       "      <td>1.2545</td>\n",
       "    </tr>\n",
       "    <tr>\n",
       "      <th>2023-02-05</th>\n",
       "      <td>1.2599</td>\n",
       "      <td>1.1836</td>\n",
       "      <td>1.2545</td>\n",
       "      <td>1.2028</td>\n",
       "    </tr>\n",
       "    <tr>\n",
       "      <th>2023-02-06</th>\n",
       "      <td>1.2378</td>\n",
       "      <td>1.1726</td>\n",
       "      <td>1.2028</td>\n",
       "      <td>1.1910</td>\n",
       "    </tr>\n",
       "    <tr>\n",
       "      <th>2023-02-07</th>\n",
       "      <td>1.2717</td>\n",
       "      <td>1.1877</td>\n",
       "      <td>1.1912</td>\n",
       "      <td>1.2699</td>\n",
       "    </tr>\n",
       "    <tr>\n",
       "      <th>2023-02-08</th>\n",
       "      <td>1.3522</td>\n",
       "      <td>1.2544</td>\n",
       "      <td>1.2698</td>\n",
       "      <td>1.3062</td>\n",
       "    </tr>\n",
       "    <tr>\n",
       "      <th>2023-02-09</th>\n",
       "      <td>1.3490</td>\n",
       "      <td>1.2015</td>\n",
       "      <td>1.3063</td>\n",
       "      <td>1.2297</td>\n",
       "    </tr>\n",
       "    <tr>\n",
       "      <th>2023-02-10</th>\n",
       "      <td>1.3136</td>\n",
       "      <td>1.2106</td>\n",
       "      <td>1.2295</td>\n",
       "      <td>1.2298</td>\n",
       "    </tr>\n",
       "    <tr>\n",
       "      <th>2023-02-11</th>\n",
       "      <td>1.2576</td>\n",
       "      <td>1.2130</td>\n",
       "      <td>1.2297</td>\n",
       "      <td>1.2493</td>\n",
       "    </tr>\n",
       "    <tr>\n",
       "      <th>2023-02-12</th>\n",
       "      <td>1.3032</td>\n",
       "      <td>1.2211</td>\n",
       "      <td>1.2493</td>\n",
       "      <td>1.2360</td>\n",
       "    </tr>\n",
       "    <tr>\n",
       "      <th>2023-02-13</th>\n",
       "      <td>1.2438</td>\n",
       "      <td>1.1365</td>\n",
       "      <td>1.2360</td>\n",
       "      <td>1.1851</td>\n",
       "    </tr>\n",
       "    <tr>\n",
       "      <th>2023-02-14</th>\n",
       "      <td>1.2602</td>\n",
       "      <td>1.1560</td>\n",
       "      <td>1.1849</td>\n",
       "      <td>1.2579</td>\n",
       "    </tr>\n",
       "    <tr>\n",
       "      <th>2023-02-15</th>\n",
       "      <td>1.3330</td>\n",
       "      <td>1.2325</td>\n",
       "      <td>1.2580</td>\n",
       "      <td>1.3283</td>\n",
       "    </tr>\n",
       "    <tr>\n",
       "      <th>2023-02-16</th>\n",
       "      <td>1.4669</td>\n",
       "      <td>1.3191</td>\n",
       "      <td>1.3282</td>\n",
       "      <td>1.3711</td>\n",
       "    </tr>\n",
       "    <tr>\n",
       "      <th>2023-02-17</th>\n",
       "      <td>1.5496</td>\n",
       "      <td>1.3693</td>\n",
       "      <td>1.3712</td>\n",
       "      <td>1.5239</td>\n",
       "    </tr>\n",
       "    <tr>\n",
       "      <th>2023-02-18</th>\n",
       "      <td>1.5681</td>\n",
       "      <td>1.4734</td>\n",
       "      <td>1.5238</td>\n",
       "      <td>1.4847</td>\n",
       "    </tr>\n",
       "    <tr>\n",
       "      <th>2023-02-19</th>\n",
       "      <td>1.5363</td>\n",
       "      <td>1.4613</td>\n",
       "      <td>1.4848</td>\n",
       "      <td>1.4785</td>\n",
       "    </tr>\n",
       "    <tr>\n",
       "      <th>2023-02-20</th>\n",
       "      <td>1.5073</td>\n",
       "      <td>1.4311</td>\n",
       "      <td>1.4785</td>\n",
       "      <td>1.4753</td>\n",
       "    </tr>\n",
       "    <tr>\n",
       "      <th>2023-02-21</th>\n",
       "      <td>1.5024</td>\n",
       "      <td>1.3621</td>\n",
       "      <td>1.4753</td>\n",
       "      <td>1.3867</td>\n",
       "    </tr>\n",
       "    <tr>\n",
       "      <th>2023-02-22</th>\n",
       "      <td>1.4018</td>\n",
       "      <td>1.3195</td>\n",
       "      <td>1.3866</td>\n",
       "      <td>1.3956</td>\n",
       "    </tr>\n",
       "    <tr>\n",
       "      <th>2023-02-23</th>\n",
       "      <td>1.4188</td>\n",
       "      <td>1.3331</td>\n",
       "      <td>1.3959</td>\n",
       "      <td>1.3533</td>\n",
       "    </tr>\n",
       "    <tr>\n",
       "      <th>2023-02-24</th>\n",
       "      <td>1.3637</td>\n",
       "      <td>1.2435</td>\n",
       "      <td>1.3534</td>\n",
       "      <td>1.2650</td>\n",
       "    </tr>\n",
       "    <tr>\n",
       "      <th>2023-02-25</th>\n",
       "      <td>1.2783</td>\n",
       "      <td>1.1939</td>\n",
       "      <td>1.2649</td>\n",
       "      <td>1.2470</td>\n",
       "    </tr>\n",
       "    <tr>\n",
       "      <th>2023-02-26</th>\n",
       "      <td>1.3000</td>\n",
       "      <td>1.2373</td>\n",
       "      <td>1.2469</td>\n",
       "      <td>1.2817</td>\n",
       "    </tr>\n",
       "    <tr>\n",
       "      <th>2023-02-27</th>\n",
       "      <td>1.2874</td>\n",
       "      <td>1.2135</td>\n",
       "      <td>1.2817</td>\n",
       "      <td>1.2345</td>\n",
       "    </tr>\n",
       "    <tr>\n",
       "      <th>2023-02-28</th>\n",
       "      <td>1.2440</td>\n",
       "      <td>1.1803</td>\n",
       "      <td>1.2346</td>\n",
       "      <td>1.1964</td>\n",
       "    </tr>\n",
       "  </tbody>\n",
       "</table>\n",
       "</div>"
      ],
      "text/plain": [
       "              high     low    open   close\n",
       "time                                      \n",
       "2023-02-01  1.2056  1.0677  1.1095  1.1937\n",
       "2023-02-02  1.2571  1.1745  1.1937  1.1810\n",
       "2023-02-03  1.2538  1.1662  1.1813  1.2460\n",
       "2023-02-04  1.2841  1.2155  1.2458  1.2545\n",
       "2023-02-05  1.2599  1.1836  1.2545  1.2028\n",
       "2023-02-06  1.2378  1.1726  1.2028  1.1910\n",
       "2023-02-07  1.2717  1.1877  1.1912  1.2699\n",
       "2023-02-08  1.3522  1.2544  1.2698  1.3062\n",
       "2023-02-09  1.3490  1.2015  1.3063  1.2297\n",
       "2023-02-10  1.3136  1.2106  1.2295  1.2298\n",
       "2023-02-11  1.2576  1.2130  1.2297  1.2493\n",
       "2023-02-12  1.3032  1.2211  1.2493  1.2360\n",
       "2023-02-13  1.2438  1.1365  1.2360  1.1851\n",
       "2023-02-14  1.2602  1.1560  1.1849  1.2579\n",
       "2023-02-15  1.3330  1.2325  1.2580  1.3283\n",
       "2023-02-16  1.4669  1.3191  1.3282  1.3711\n",
       "2023-02-17  1.5496  1.3693  1.3712  1.5239\n",
       "2023-02-18  1.5681  1.4734  1.5238  1.4847\n",
       "2023-02-19  1.5363  1.4613  1.4848  1.4785\n",
       "2023-02-20  1.5073  1.4311  1.4785  1.4753\n",
       "2023-02-21  1.5024  1.3621  1.4753  1.3867\n",
       "2023-02-22  1.4018  1.3195  1.3866  1.3956\n",
       "2023-02-23  1.4188  1.3331  1.3959  1.3533\n",
       "2023-02-24  1.3637  1.2435  1.3534  1.2650\n",
       "2023-02-25  1.2783  1.1939  1.2649  1.2470\n",
       "2023-02-26  1.3000  1.2373  1.2469  1.2817\n",
       "2023-02-27  1.2874  1.2135  1.2817  1.2345\n",
       "2023-02-28  1.2440  1.1803  1.2346  1.1964"
      ]
     },
     "execution_count": 11,
     "metadata": {},
     "output_type": "execute_result"
    }
   ],
   "source": [
    "price_candles = df.price.resample(\"1D\").agg([\"max\",\"min\",\"first\",\"last\"])\n",
    "price_candles.columns = [\"high\",\"low\",\"open\",\"close\"]\n",
    "price_candles"
   ]
  },
  {
   "cell_type": "code",
   "execution_count": 19,
   "id": "16635979",
   "metadata": {},
   "outputs": [
    {
     "data": {
      "application/vnd.plotly.v1+json": {
       "config": {
        "plotlyServerURL": "https://plot.ly"
       },
       "data": [
        {
         "close": [
          1857195.7,
          3398230,
          1089913.8,
          -1891422.5,
          -8798230.1,
          -10987029.2,
          -11086393.4,
          375105.89999999997,
          -1267466.6,
          -6714954.7,
          -9982170.6,
          -11068561.9,
          -17373788.7,
          -15400989.4,
          3157051.2,
          3388581.1,
          6323617,
          6521552.9,
          3925458.6,
          1156327,
          -2932807.8,
          -908116.5,
          -3911751.8,
          -10395328.8,
          -11434727.5,
          -11000394.8,
          -13739323.5,
          -17643230.9
         ],
         "high": [
          1969978.4,
          4862203.2,
          3534951.6,
          1279358.7,
          -1850472.9000000001,
          -8681910.6,
          -10718009.8,
          1463091.0999999999,
          1733939.9,
          -820520.5,
          -6715060.4,
          -9800254.4,
          -10702349.6,
          -15167999.2,
          3224603.2,
          6941482.7,
          7642842,
          8290590.5,
          6658405.4,
          4091537.4,
          1507455.0999999999,
          330720.9,
          577767.9,
          -3807550.6,
          -10288018.6,
          -10985271.9,
          -10788691.1,
          -12809706.6
         ],
         "open": [
          128.3,
          1854593.9,
          3398462.4,
          1090017.5999999999,
          -1891982.7,
          -8798115.1,
          -10987705.5,
          -17,
          375173.89999999997,
          -1267581.2,
          -6715060.4,
          -9981990.6,
          -11068440.1,
          -17374188.7,
          16.8,
          3157062.4,
          3390951.5,
          6323577,
          6521732.9,
          3925469.4,
          1156256.4,
          -210.4,
          -908070.2999999999,
          -3911439.6999999997,
          -10397744.7,
          -11434692.2,
          -11000369.5,
          -13739271.2
         ],
         "type": "candlestick",
         "x": [
          "2023-02-01T00:00:00",
          "2023-02-02T00:00:00",
          "2023-02-03T00:00:00",
          "2023-02-04T00:00:00",
          "2023-02-05T00:00:00",
          "2023-02-06T00:00:00",
          "2023-02-07T00:00:00",
          "2023-02-08T00:00:00",
          "2023-02-09T00:00:00",
          "2023-02-10T00:00:00",
          "2023-02-11T00:00:00",
          "2023-02-12T00:00:00",
          "2023-02-13T00:00:00",
          "2023-02-14T00:00:00",
          "2023-02-15T00:00:00",
          "2023-02-16T00:00:00",
          "2023-02-17T00:00:00",
          "2023-02-18T00:00:00",
          "2023-02-19T00:00:00",
          "2023-02-20T00:00:00",
          "2023-02-21T00:00:00",
          "2023-02-22T00:00:00",
          "2023-02-23T00:00:00",
          "2023-02-24T00:00:00",
          "2023-02-25T00:00:00",
          "2023-02-26T00:00:00",
          "2023-02-27T00:00:00",
          "2023-02-28T00:00:00"
         ]
        }
       ],
       "layout": {
        "template": {
         "data": {
          "bar": [
           {
            "error_x": {
             "color": "#2a3f5f"
            },
            "error_y": {
             "color": "#2a3f5f"
            },
            "marker": {
             "line": {
              "color": "#E5ECF6",
              "width": 0.5
             },
             "pattern": {
              "fillmode": "overlay",
              "size": 10,
              "solidity": 0.2
             }
            },
            "type": "bar"
           }
          ],
          "barpolar": [
           {
            "marker": {
             "line": {
              "color": "#E5ECF6",
              "width": 0.5
             },
             "pattern": {
              "fillmode": "overlay",
              "size": 10,
              "solidity": 0.2
             }
            },
            "type": "barpolar"
           }
          ],
          "carpet": [
           {
            "aaxis": {
             "endlinecolor": "#2a3f5f",
             "gridcolor": "white",
             "linecolor": "white",
             "minorgridcolor": "white",
             "startlinecolor": "#2a3f5f"
            },
            "baxis": {
             "endlinecolor": "#2a3f5f",
             "gridcolor": "white",
             "linecolor": "white",
             "minorgridcolor": "white",
             "startlinecolor": "#2a3f5f"
            },
            "type": "carpet"
           }
          ],
          "choropleth": [
           {
            "colorbar": {
             "outlinewidth": 0,
             "ticks": ""
            },
            "type": "choropleth"
           }
          ],
          "contour": [
           {
            "colorbar": {
             "outlinewidth": 0,
             "ticks": ""
            },
            "colorscale": [
             [
              0,
              "#0d0887"
             ],
             [
              0.1111111111111111,
              "#46039f"
             ],
             [
              0.2222222222222222,
              "#7201a8"
             ],
             [
              0.3333333333333333,
              "#9c179e"
             ],
             [
              0.4444444444444444,
              "#bd3786"
             ],
             [
              0.5555555555555556,
              "#d8576b"
             ],
             [
              0.6666666666666666,
              "#ed7953"
             ],
             [
              0.7777777777777778,
              "#fb9f3a"
             ],
             [
              0.8888888888888888,
              "#fdca26"
             ],
             [
              1,
              "#f0f921"
             ]
            ],
            "type": "contour"
           }
          ],
          "contourcarpet": [
           {
            "colorbar": {
             "outlinewidth": 0,
             "ticks": ""
            },
            "type": "contourcarpet"
           }
          ],
          "heatmap": [
           {
            "colorbar": {
             "outlinewidth": 0,
             "ticks": ""
            },
            "colorscale": [
             [
              0,
              "#0d0887"
             ],
             [
              0.1111111111111111,
              "#46039f"
             ],
             [
              0.2222222222222222,
              "#7201a8"
             ],
             [
              0.3333333333333333,
              "#9c179e"
             ],
             [
              0.4444444444444444,
              "#bd3786"
             ],
             [
              0.5555555555555556,
              "#d8576b"
             ],
             [
              0.6666666666666666,
              "#ed7953"
             ],
             [
              0.7777777777777778,
              "#fb9f3a"
             ],
             [
              0.8888888888888888,
              "#fdca26"
             ],
             [
              1,
              "#f0f921"
             ]
            ],
            "type": "heatmap"
           }
          ],
          "heatmapgl": [
           {
            "colorbar": {
             "outlinewidth": 0,
             "ticks": ""
            },
            "colorscale": [
             [
              0,
              "#0d0887"
             ],
             [
              0.1111111111111111,
              "#46039f"
             ],
             [
              0.2222222222222222,
              "#7201a8"
             ],
             [
              0.3333333333333333,
              "#9c179e"
             ],
             [
              0.4444444444444444,
              "#bd3786"
             ],
             [
              0.5555555555555556,
              "#d8576b"
             ],
             [
              0.6666666666666666,
              "#ed7953"
             ],
             [
              0.7777777777777778,
              "#fb9f3a"
             ],
             [
              0.8888888888888888,
              "#fdca26"
             ],
             [
              1,
              "#f0f921"
             ]
            ],
            "type": "heatmapgl"
           }
          ],
          "histogram": [
           {
            "marker": {
             "pattern": {
              "fillmode": "overlay",
              "size": 10,
              "solidity": 0.2
             }
            },
            "type": "histogram"
           }
          ],
          "histogram2d": [
           {
            "colorbar": {
             "outlinewidth": 0,
             "ticks": ""
            },
            "colorscale": [
             [
              0,
              "#0d0887"
             ],
             [
              0.1111111111111111,
              "#46039f"
             ],
             [
              0.2222222222222222,
              "#7201a8"
             ],
             [
              0.3333333333333333,
              "#9c179e"
             ],
             [
              0.4444444444444444,
              "#bd3786"
             ],
             [
              0.5555555555555556,
              "#d8576b"
             ],
             [
              0.6666666666666666,
              "#ed7953"
             ],
             [
              0.7777777777777778,
              "#fb9f3a"
             ],
             [
              0.8888888888888888,
              "#fdca26"
             ],
             [
              1,
              "#f0f921"
             ]
            ],
            "type": "histogram2d"
           }
          ],
          "histogram2dcontour": [
           {
            "colorbar": {
             "outlinewidth": 0,
             "ticks": ""
            },
            "colorscale": [
             [
              0,
              "#0d0887"
             ],
             [
              0.1111111111111111,
              "#46039f"
             ],
             [
              0.2222222222222222,
              "#7201a8"
             ],
             [
              0.3333333333333333,
              "#9c179e"
             ],
             [
              0.4444444444444444,
              "#bd3786"
             ],
             [
              0.5555555555555556,
              "#d8576b"
             ],
             [
              0.6666666666666666,
              "#ed7953"
             ],
             [
              0.7777777777777778,
              "#fb9f3a"
             ],
             [
              0.8888888888888888,
              "#fdca26"
             ],
             [
              1,
              "#f0f921"
             ]
            ],
            "type": "histogram2dcontour"
           }
          ],
          "mesh3d": [
           {
            "colorbar": {
             "outlinewidth": 0,
             "ticks": ""
            },
            "type": "mesh3d"
           }
          ],
          "parcoords": [
           {
            "line": {
             "colorbar": {
              "outlinewidth": 0,
              "ticks": ""
             }
            },
            "type": "parcoords"
           }
          ],
          "pie": [
           {
            "automargin": true,
            "type": "pie"
           }
          ],
          "scatter": [
           {
            "fillpattern": {
             "fillmode": "overlay",
             "size": 10,
             "solidity": 0.2
            },
            "type": "scatter"
           }
          ],
          "scatter3d": [
           {
            "line": {
             "colorbar": {
              "outlinewidth": 0,
              "ticks": ""
             }
            },
            "marker": {
             "colorbar": {
              "outlinewidth": 0,
              "ticks": ""
             }
            },
            "type": "scatter3d"
           }
          ],
          "scattercarpet": [
           {
            "marker": {
             "colorbar": {
              "outlinewidth": 0,
              "ticks": ""
             }
            },
            "type": "scattercarpet"
           }
          ],
          "scattergeo": [
           {
            "marker": {
             "colorbar": {
              "outlinewidth": 0,
              "ticks": ""
             }
            },
            "type": "scattergeo"
           }
          ],
          "scattergl": [
           {
            "marker": {
             "colorbar": {
              "outlinewidth": 0,
              "ticks": ""
             }
            },
            "type": "scattergl"
           }
          ],
          "scattermapbox": [
           {
            "marker": {
             "colorbar": {
              "outlinewidth": 0,
              "ticks": ""
             }
            },
            "type": "scattermapbox"
           }
          ],
          "scatterpolar": [
           {
            "marker": {
             "colorbar": {
              "outlinewidth": 0,
              "ticks": ""
             }
            },
            "type": "scatterpolar"
           }
          ],
          "scatterpolargl": [
           {
            "marker": {
             "colorbar": {
              "outlinewidth": 0,
              "ticks": ""
             }
            },
            "type": "scatterpolargl"
           }
          ],
          "scatterternary": [
           {
            "marker": {
             "colorbar": {
              "outlinewidth": 0,
              "ticks": ""
             }
            },
            "type": "scatterternary"
           }
          ],
          "surface": [
           {
            "colorbar": {
             "outlinewidth": 0,
             "ticks": ""
            },
            "colorscale": [
             [
              0,
              "#0d0887"
             ],
             [
              0.1111111111111111,
              "#46039f"
             ],
             [
              0.2222222222222222,
              "#7201a8"
             ],
             [
              0.3333333333333333,
              "#9c179e"
             ],
             [
              0.4444444444444444,
              "#bd3786"
             ],
             [
              0.5555555555555556,
              "#d8576b"
             ],
             [
              0.6666666666666666,
              "#ed7953"
             ],
             [
              0.7777777777777778,
              "#fb9f3a"
             ],
             [
              0.8888888888888888,
              "#fdca26"
             ],
             [
              1,
              "#f0f921"
             ]
            ],
            "type": "surface"
           }
          ],
          "table": [
           {
            "cells": {
             "fill": {
              "color": "#EBF0F8"
             },
             "line": {
              "color": "white"
             }
            },
            "header": {
             "fill": {
              "color": "#C8D4E3"
             },
             "line": {
              "color": "white"
             }
            },
            "type": "table"
           }
          ]
         },
         "layout": {
          "annotationdefaults": {
           "arrowcolor": "#2a3f5f",
           "arrowhead": 0,
           "arrowwidth": 1
          },
          "autotypenumbers": "strict",
          "coloraxis": {
           "colorbar": {
            "outlinewidth": 0,
            "ticks": ""
           }
          },
          "colorscale": {
           "diverging": [
            [
             0,
             "#8e0152"
            ],
            [
             0.1,
             "#c51b7d"
            ],
            [
             0.2,
             "#de77ae"
            ],
            [
             0.3,
             "#f1b6da"
            ],
            [
             0.4,
             "#fde0ef"
            ],
            [
             0.5,
             "#f7f7f7"
            ],
            [
             0.6,
             "#e6f5d0"
            ],
            [
             0.7,
             "#b8e186"
            ],
            [
             0.8,
             "#7fbc41"
            ],
            [
             0.9,
             "#4d9221"
            ],
            [
             1,
             "#276419"
            ]
           ],
           "sequential": [
            [
             0,
             "#0d0887"
            ],
            [
             0.1111111111111111,
             "#46039f"
            ],
            [
             0.2222222222222222,
             "#7201a8"
            ],
            [
             0.3333333333333333,
             "#9c179e"
            ],
            [
             0.4444444444444444,
             "#bd3786"
            ],
            [
             0.5555555555555556,
             "#d8576b"
            ],
            [
             0.6666666666666666,
             "#ed7953"
            ],
            [
             0.7777777777777778,
             "#fb9f3a"
            ],
            [
             0.8888888888888888,
             "#fdca26"
            ],
            [
             1,
             "#f0f921"
            ]
           ],
           "sequentialminus": [
            [
             0,
             "#0d0887"
            ],
            [
             0.1111111111111111,
             "#46039f"
            ],
            [
             0.2222222222222222,
             "#7201a8"
            ],
            [
             0.3333333333333333,
             "#9c179e"
            ],
            [
             0.4444444444444444,
             "#bd3786"
            ],
            [
             0.5555555555555556,
             "#d8576b"
            ],
            [
             0.6666666666666666,
             "#ed7953"
            ],
            [
             0.7777777777777778,
             "#fb9f3a"
            ],
            [
             0.8888888888888888,
             "#fdca26"
            ],
            [
             1,
             "#f0f921"
            ]
           ]
          },
          "colorway": [
           "#636efa",
           "#EF553B",
           "#00cc96",
           "#ab63fa",
           "#FFA15A",
           "#19d3f3",
           "#FF6692",
           "#B6E880",
           "#FF97FF",
           "#FECB52"
          ],
          "font": {
           "color": "#2a3f5f"
          },
          "geo": {
           "bgcolor": "white",
           "lakecolor": "white",
           "landcolor": "#E5ECF6",
           "showlakes": true,
           "showland": true,
           "subunitcolor": "white"
          },
          "hoverlabel": {
           "align": "left"
          },
          "hovermode": "closest",
          "mapbox": {
           "style": "light"
          },
          "paper_bgcolor": "white",
          "plot_bgcolor": "#E5ECF6",
          "polar": {
           "angularaxis": {
            "gridcolor": "white",
            "linecolor": "white",
            "ticks": ""
           },
           "bgcolor": "#E5ECF6",
           "radialaxis": {
            "gridcolor": "white",
            "linecolor": "white",
            "ticks": ""
           }
          },
          "scene": {
           "xaxis": {
            "backgroundcolor": "#E5ECF6",
            "gridcolor": "white",
            "gridwidth": 2,
            "linecolor": "white",
            "showbackground": true,
            "ticks": "",
            "zerolinecolor": "white"
           },
           "yaxis": {
            "backgroundcolor": "#E5ECF6",
            "gridcolor": "white",
            "gridwidth": 2,
            "linecolor": "white",
            "showbackground": true,
            "ticks": "",
            "zerolinecolor": "white"
           },
           "zaxis": {
            "backgroundcolor": "#E5ECF6",
            "gridcolor": "white",
            "gridwidth": 2,
            "linecolor": "white",
            "showbackground": true,
            "ticks": "",
            "zerolinecolor": "white"
           }
          },
          "shapedefaults": {
           "line": {
            "color": "#2a3f5f"
           }
          },
          "ternary": {
           "aaxis": {
            "gridcolor": "white",
            "linecolor": "white",
            "ticks": ""
           },
           "baxis": {
            "gridcolor": "white",
            "linecolor": "white",
            "ticks": ""
           },
           "bgcolor": "#E5ECF6",
           "caxis": {
            "gridcolor": "white",
            "linecolor": "white",
            "ticks": ""
           }
          },
          "title": {
           "x": 0.05
          },
          "xaxis": {
           "automargin": true,
           "gridcolor": "white",
           "linecolor": "white",
           "ticks": "",
           "title": {
            "standoff": 15
           },
           "zerolinecolor": "white",
           "zerolinewidth": 2
          },
          "yaxis": {
           "automargin": true,
           "gridcolor": "white",
           "linecolor": "white",
           "ticks": "",
           "title": {
            "standoff": 15
           },
           "zerolinecolor": "white",
           "zerolinewidth": 2
          }
         }
        }
       }
      },
      "text/html": [
       "<div>                            <div id=\"4ca2d47d-05f0-47f5-81ac-be8a3337397d\" class=\"plotly-graph-div\" style=\"height:525px; width:100%;\"></div>            <script type=\"text/javascript\">                require([\"plotly\"], function(Plotly) {                    window.PLOTLYENV=window.PLOTLYENV || {};                                    if (document.getElementById(\"4ca2d47d-05f0-47f5-81ac-be8a3337397d\")) {                    Plotly.newPlot(                        \"4ca2d47d-05f0-47f5-81ac-be8a3337397d\",                        [{\"close\":[1857195.7,3398230.0,1089913.8,-1891422.5,-8798230.1,-10987029.2,-11086393.4,375105.89999999997,-1267466.6,-6714954.7,-9982170.6,-11068561.9,-17373788.7,-15400989.4,3157051.2,3388581.1,6323617.0,6521552.9,3925458.6,1156327.0,-2932807.8,-908116.5,-3911751.8,-10395328.8,-11434727.5,-11000394.8,-13739323.5,-17643230.9],\"high\":[1969978.4,4862203.2,3534951.6,1279358.7,-1850472.9000000001,-8681910.6,-10718009.8,1463091.0999999999,1733939.9,-820520.5,-6715060.4,-9800254.4,-10702349.6,-15167999.2,3224603.2,6941482.7,7642842.0,8290590.5,6658405.4,4091537.4,1507455.0999999999,330720.9,577767.9,-3807550.6,-10288018.6,-10985271.9,-10788691.1,-12809706.6],\"open\":[128.3,1854593.9,3398462.4,1090017.5999999999,-1891982.7,-8798115.1,-10987705.5,-17.0,375173.89999999997,-1267581.2,-6715060.4,-9981990.6,-11068440.1,-17374188.7,16.8,3157062.4,3390951.5,6323577.0,6521732.9,3925469.4,1156256.4,-210.4,-908070.2999999999,-3911439.6999999997,-10397744.7,-11434692.2,-11000369.5,-13739271.2],\"x\":[\"2023-02-01T00:00:00\",\"2023-02-02T00:00:00\",\"2023-02-03T00:00:00\",\"2023-02-04T00:00:00\",\"2023-02-05T00:00:00\",\"2023-02-06T00:00:00\",\"2023-02-07T00:00:00\",\"2023-02-08T00:00:00\",\"2023-02-09T00:00:00\",\"2023-02-10T00:00:00\",\"2023-02-11T00:00:00\",\"2023-02-12T00:00:00\",\"2023-02-13T00:00:00\",\"2023-02-14T00:00:00\",\"2023-02-15T00:00:00\",\"2023-02-16T00:00:00\",\"2023-02-17T00:00:00\",\"2023-02-18T00:00:00\",\"2023-02-19T00:00:00\",\"2023-02-20T00:00:00\",\"2023-02-21T00:00:00\",\"2023-02-22T00:00:00\",\"2023-02-23T00:00:00\",\"2023-02-24T00:00:00\",\"2023-02-25T00:00:00\",\"2023-02-26T00:00:00\",\"2023-02-27T00:00:00\",\"2023-02-28T00:00:00\"],\"type\":\"candlestick\"}],                        {\"template\":{\"data\":{\"histogram2dcontour\":[{\"type\":\"histogram2dcontour\",\"colorbar\":{\"outlinewidth\":0,\"ticks\":\"\"},\"colorscale\":[[0.0,\"#0d0887\"],[0.1111111111111111,\"#46039f\"],[0.2222222222222222,\"#7201a8\"],[0.3333333333333333,\"#9c179e\"],[0.4444444444444444,\"#bd3786\"],[0.5555555555555556,\"#d8576b\"],[0.6666666666666666,\"#ed7953\"],[0.7777777777777778,\"#fb9f3a\"],[0.8888888888888888,\"#fdca26\"],[1.0,\"#f0f921\"]]}],\"choropleth\":[{\"type\":\"choropleth\",\"colorbar\":{\"outlinewidth\":0,\"ticks\":\"\"}}],\"histogram2d\":[{\"type\":\"histogram2d\",\"colorbar\":{\"outlinewidth\":0,\"ticks\":\"\"},\"colorscale\":[[0.0,\"#0d0887\"],[0.1111111111111111,\"#46039f\"],[0.2222222222222222,\"#7201a8\"],[0.3333333333333333,\"#9c179e\"],[0.4444444444444444,\"#bd3786\"],[0.5555555555555556,\"#d8576b\"],[0.6666666666666666,\"#ed7953\"],[0.7777777777777778,\"#fb9f3a\"],[0.8888888888888888,\"#fdca26\"],[1.0,\"#f0f921\"]]}],\"heatmap\":[{\"type\":\"heatmap\",\"colorbar\":{\"outlinewidth\":0,\"ticks\":\"\"},\"colorscale\":[[0.0,\"#0d0887\"],[0.1111111111111111,\"#46039f\"],[0.2222222222222222,\"#7201a8\"],[0.3333333333333333,\"#9c179e\"],[0.4444444444444444,\"#bd3786\"],[0.5555555555555556,\"#d8576b\"],[0.6666666666666666,\"#ed7953\"],[0.7777777777777778,\"#fb9f3a\"],[0.8888888888888888,\"#fdca26\"],[1.0,\"#f0f921\"]]}],\"heatmapgl\":[{\"type\":\"heatmapgl\",\"colorbar\":{\"outlinewidth\":0,\"ticks\":\"\"},\"colorscale\":[[0.0,\"#0d0887\"],[0.1111111111111111,\"#46039f\"],[0.2222222222222222,\"#7201a8\"],[0.3333333333333333,\"#9c179e\"],[0.4444444444444444,\"#bd3786\"],[0.5555555555555556,\"#d8576b\"],[0.6666666666666666,\"#ed7953\"],[0.7777777777777778,\"#fb9f3a\"],[0.8888888888888888,\"#fdca26\"],[1.0,\"#f0f921\"]]}],\"contourcarpet\":[{\"type\":\"contourcarpet\",\"colorbar\":{\"outlinewidth\":0,\"ticks\":\"\"}}],\"contour\":[{\"type\":\"contour\",\"colorbar\":{\"outlinewidth\":0,\"ticks\":\"\"},\"colorscale\":[[0.0,\"#0d0887\"],[0.1111111111111111,\"#46039f\"],[0.2222222222222222,\"#7201a8\"],[0.3333333333333333,\"#9c179e\"],[0.4444444444444444,\"#bd3786\"],[0.5555555555555556,\"#d8576b\"],[0.6666666666666666,\"#ed7953\"],[0.7777777777777778,\"#fb9f3a\"],[0.8888888888888888,\"#fdca26\"],[1.0,\"#f0f921\"]]}],\"surface\":[{\"type\":\"surface\",\"colorbar\":{\"outlinewidth\":0,\"ticks\":\"\"},\"colorscale\":[[0.0,\"#0d0887\"],[0.1111111111111111,\"#46039f\"],[0.2222222222222222,\"#7201a8\"],[0.3333333333333333,\"#9c179e\"],[0.4444444444444444,\"#bd3786\"],[0.5555555555555556,\"#d8576b\"],[0.6666666666666666,\"#ed7953\"],[0.7777777777777778,\"#fb9f3a\"],[0.8888888888888888,\"#fdca26\"],[1.0,\"#f0f921\"]]}],\"mesh3d\":[{\"type\":\"mesh3d\",\"colorbar\":{\"outlinewidth\":0,\"ticks\":\"\"}}],\"scatter\":[{\"fillpattern\":{\"fillmode\":\"overlay\",\"size\":10,\"solidity\":0.2},\"type\":\"scatter\"}],\"parcoords\":[{\"type\":\"parcoords\",\"line\":{\"colorbar\":{\"outlinewidth\":0,\"ticks\":\"\"}}}],\"scatterpolargl\":[{\"type\":\"scatterpolargl\",\"marker\":{\"colorbar\":{\"outlinewidth\":0,\"ticks\":\"\"}}}],\"bar\":[{\"error_x\":{\"color\":\"#2a3f5f\"},\"error_y\":{\"color\":\"#2a3f5f\"},\"marker\":{\"line\":{\"color\":\"#E5ECF6\",\"width\":0.5},\"pattern\":{\"fillmode\":\"overlay\",\"size\":10,\"solidity\":0.2}},\"type\":\"bar\"}],\"scattergeo\":[{\"type\":\"scattergeo\",\"marker\":{\"colorbar\":{\"outlinewidth\":0,\"ticks\":\"\"}}}],\"scatterpolar\":[{\"type\":\"scatterpolar\",\"marker\":{\"colorbar\":{\"outlinewidth\":0,\"ticks\":\"\"}}}],\"histogram\":[{\"marker\":{\"pattern\":{\"fillmode\":\"overlay\",\"size\":10,\"solidity\":0.2}},\"type\":\"histogram\"}],\"scattergl\":[{\"type\":\"scattergl\",\"marker\":{\"colorbar\":{\"outlinewidth\":0,\"ticks\":\"\"}}}],\"scatter3d\":[{\"type\":\"scatter3d\",\"line\":{\"colorbar\":{\"outlinewidth\":0,\"ticks\":\"\"}},\"marker\":{\"colorbar\":{\"outlinewidth\":0,\"ticks\":\"\"}}}],\"scattermapbox\":[{\"type\":\"scattermapbox\",\"marker\":{\"colorbar\":{\"outlinewidth\":0,\"ticks\":\"\"}}}],\"scatterternary\":[{\"type\":\"scatterternary\",\"marker\":{\"colorbar\":{\"outlinewidth\":0,\"ticks\":\"\"}}}],\"scattercarpet\":[{\"type\":\"scattercarpet\",\"marker\":{\"colorbar\":{\"outlinewidth\":0,\"ticks\":\"\"}}}],\"carpet\":[{\"aaxis\":{\"endlinecolor\":\"#2a3f5f\",\"gridcolor\":\"white\",\"linecolor\":\"white\",\"minorgridcolor\":\"white\",\"startlinecolor\":\"#2a3f5f\"},\"baxis\":{\"endlinecolor\":\"#2a3f5f\",\"gridcolor\":\"white\",\"linecolor\":\"white\",\"minorgridcolor\":\"white\",\"startlinecolor\":\"#2a3f5f\"},\"type\":\"carpet\"}],\"table\":[{\"cells\":{\"fill\":{\"color\":\"#EBF0F8\"},\"line\":{\"color\":\"white\"}},\"header\":{\"fill\":{\"color\":\"#C8D4E3\"},\"line\":{\"color\":\"white\"}},\"type\":\"table\"}],\"barpolar\":[{\"marker\":{\"line\":{\"color\":\"#E5ECF6\",\"width\":0.5},\"pattern\":{\"fillmode\":\"overlay\",\"size\":10,\"solidity\":0.2}},\"type\":\"barpolar\"}],\"pie\":[{\"automargin\":true,\"type\":\"pie\"}]},\"layout\":{\"autotypenumbers\":\"strict\",\"colorway\":[\"#636efa\",\"#EF553B\",\"#00cc96\",\"#ab63fa\",\"#FFA15A\",\"#19d3f3\",\"#FF6692\",\"#B6E880\",\"#FF97FF\",\"#FECB52\"],\"font\":{\"color\":\"#2a3f5f\"},\"hovermode\":\"closest\",\"hoverlabel\":{\"align\":\"left\"},\"paper_bgcolor\":\"white\",\"plot_bgcolor\":\"#E5ECF6\",\"polar\":{\"bgcolor\":\"#E5ECF6\",\"angularaxis\":{\"gridcolor\":\"white\",\"linecolor\":\"white\",\"ticks\":\"\"},\"radialaxis\":{\"gridcolor\":\"white\",\"linecolor\":\"white\",\"ticks\":\"\"}},\"ternary\":{\"bgcolor\":\"#E5ECF6\",\"aaxis\":{\"gridcolor\":\"white\",\"linecolor\":\"white\",\"ticks\":\"\"},\"baxis\":{\"gridcolor\":\"white\",\"linecolor\":\"white\",\"ticks\":\"\"},\"caxis\":{\"gridcolor\":\"white\",\"linecolor\":\"white\",\"ticks\":\"\"}},\"coloraxis\":{\"colorbar\":{\"outlinewidth\":0,\"ticks\":\"\"}},\"colorscale\":{\"sequential\":[[0.0,\"#0d0887\"],[0.1111111111111111,\"#46039f\"],[0.2222222222222222,\"#7201a8\"],[0.3333333333333333,\"#9c179e\"],[0.4444444444444444,\"#bd3786\"],[0.5555555555555556,\"#d8576b\"],[0.6666666666666666,\"#ed7953\"],[0.7777777777777778,\"#fb9f3a\"],[0.8888888888888888,\"#fdca26\"],[1.0,\"#f0f921\"]],\"sequentialminus\":[[0.0,\"#0d0887\"],[0.1111111111111111,\"#46039f\"],[0.2222222222222222,\"#7201a8\"],[0.3333333333333333,\"#9c179e\"],[0.4444444444444444,\"#bd3786\"],[0.5555555555555556,\"#d8576b\"],[0.6666666666666666,\"#ed7953\"],[0.7777777777777778,\"#fb9f3a\"],[0.8888888888888888,\"#fdca26\"],[1.0,\"#f0f921\"]],\"diverging\":[[0,\"#8e0152\"],[0.1,\"#c51b7d\"],[0.2,\"#de77ae\"],[0.3,\"#f1b6da\"],[0.4,\"#fde0ef\"],[0.5,\"#f7f7f7\"],[0.6,\"#e6f5d0\"],[0.7,\"#b8e186\"],[0.8,\"#7fbc41\"],[0.9,\"#4d9221\"],[1,\"#276419\"]]},\"xaxis\":{\"gridcolor\":\"white\",\"linecolor\":\"white\",\"ticks\":\"\",\"title\":{\"standoff\":15},\"zerolinecolor\":\"white\",\"automargin\":true,\"zerolinewidth\":2},\"yaxis\":{\"gridcolor\":\"white\",\"linecolor\":\"white\",\"ticks\":\"\",\"title\":{\"standoff\":15},\"zerolinecolor\":\"white\",\"automargin\":true,\"zerolinewidth\":2},\"scene\":{\"xaxis\":{\"backgroundcolor\":\"#E5ECF6\",\"gridcolor\":\"white\",\"linecolor\":\"white\",\"showbackground\":true,\"ticks\":\"\",\"zerolinecolor\":\"white\",\"gridwidth\":2},\"yaxis\":{\"backgroundcolor\":\"#E5ECF6\",\"gridcolor\":\"white\",\"linecolor\":\"white\",\"showbackground\":true,\"ticks\":\"\",\"zerolinecolor\":\"white\",\"gridwidth\":2},\"zaxis\":{\"backgroundcolor\":\"#E5ECF6\",\"gridcolor\":\"white\",\"linecolor\":\"white\",\"showbackground\":true,\"ticks\":\"\",\"zerolinecolor\":\"white\",\"gridwidth\":2}},\"shapedefaults\":{\"line\":{\"color\":\"#2a3f5f\"}},\"annotationdefaults\":{\"arrowcolor\":\"#2a3f5f\",\"arrowhead\":0,\"arrowwidth\":1},\"geo\":{\"bgcolor\":\"white\",\"landcolor\":\"#E5ECF6\",\"subunitcolor\":\"white\",\"showland\":true,\"showlakes\":true,\"lakecolor\":\"white\"},\"title\":{\"x\":0.05},\"mapbox\":{\"style\":\"light\"}}}},                        {\"responsive\": true}                    ).then(function(){\n",
       "                            \n",
       "var gd = document.getElementById('4ca2d47d-05f0-47f5-81ac-be8a3337397d');\n",
       "var x = new MutationObserver(function (mutations, observer) {{\n",
       "        var display = window.getComputedStyle(gd).display;\n",
       "        if (!display || display === 'none') {{\n",
       "            console.log([gd, 'removed!']);\n",
       "            Plotly.purge(gd);\n",
       "            observer.disconnect();\n",
       "        }}\n",
       "}});\n",
       "\n",
       "// Listen for the removal of the full notebook cells\n",
       "var notebookContainer = gd.closest('#notebook-container');\n",
       "if (notebookContainer) {{\n",
       "    x.observe(notebookContainer, {childList: true});\n",
       "}}\n",
       "\n",
       "// Listen for the clearing of the current output cell\n",
       "var outputEl = gd.closest('.output');\n",
       "if (outputEl) {{\n",
       "    x.observe(outputEl, {childList: true});\n",
       "}}\n",
       "\n",
       "                        })                };                });            </script>        </div>"
      ]
     },
     "metadata": {},
     "output_type": "display_data"
    }
   ],
   "source": [
    "import plotly.graph_objects as go\n",
    "from plotly.subplots import make_subplots\n",
    "from plotly.offline import plot\n",
    "from datetime import datetime\n",
    "\n",
    "\n",
    "\n",
    "# fig = make_subplots(rows=2, cols=1, shared_xaxes=True)\n",
    "\n",
    "fig = go.Figure(data=[go.Candlestick(x=cvd_candles.index,\n",
    "                open = cvd_candles['open'],\n",
    "                high = cvd_candles['high'],\n",
    "                close = cvd_candles['close'])])\n",
    "\n",
    "# fig = fig.add_trace(go.Candlestick(\n",
    "#         x = price_candles.index,\n",
    "#         open = price_candles.open,\n",
    "#         high = price_candles.high,\n",
    "#         close = price_candles.close),\n",
    "#     row=1, col=1)\n",
    "\n",
    "# fig = fig.add_trace(go.Candlestick(\n",
    "#         x = cvd_candles.index,\n",
    "#         open = cvd_candles.open,\n",
    "#         high = cvd_candles.high,\n",
    "#         close = cvd_candles.close),\n",
    "#     row=2, col=1)\n",
    "\n",
    "# fig.update_xaxes(rangeslider_visible=False)\n",
    "\n",
    "fig.show()\n",
    "\n",
    "# plot(fig)\n",
    "\n"
   ]
  },
  {
   "cell_type": "code",
   "execution_count": null,
   "id": "5e6c6863",
   "metadata": {},
   "outputs": [],
   "source": []
  },
  {
   "cell_type": "code",
   "execution_count": null,
   "id": "ee889cae",
   "metadata": {},
   "outputs": [],
   "source": [
    "from plotly.offline import plot\n",
    "import plotly.graph_objs as go\n",
    "\n",
    "fig = go.Figure(data=[go.Bar(y=[1, 3, 2])])\n",
    "plot(fig, auto_open=True)"
   ]
  },
  {
   "cell_type": "code",
   "execution_count": 13,
   "id": "67f5e281",
   "metadata": {},
   "outputs": [
    {
     "name": "stdout",
     "output_type": "stream",
     "text": [
      "           Date   AAPL.Open   AAPL.High    AAPL.Low  AAPL.Close  AAPL.Volume  \\\n",
      "0    2015-02-17  127.489998  128.880005  126.919998  127.830002     63152400   \n",
      "1    2015-02-18  127.629997  128.779999  127.449997  128.720001     44891700   \n",
      "2    2015-02-19  128.479996  129.029999  128.330002  128.449997     37362400   \n",
      "3    2015-02-20  128.619995  129.500000  128.050003  129.500000     48948400   \n",
      "4    2015-02-23  130.020004  133.000000  129.660004  133.000000     70974100   \n",
      "..          ...         ...         ...         ...         ...          ...   \n",
      "501  2017-02-10  132.460007  132.940002  132.050003  132.119995     20065500   \n",
      "502  2017-02-13  133.080002  133.820007  132.750000  133.289993     23035400   \n",
      "503  2017-02-14  133.470001  135.089996  133.250000  135.020004     32815500   \n",
      "504  2017-02-15  135.520004  136.270004  134.619995  135.509995     35501600   \n",
      "505  2017-02-16  135.669998  135.899994  134.839996  135.350006     22118000   \n",
      "\n",
      "     AAPL.Adjusted          dn        mavg          up   direction  \n",
      "0       122.905254  106.741052  117.927667  129.114281  Increasing  \n",
      "1       123.760965  107.842423  118.940333  130.038244  Increasing  \n",
      "2       123.501363  108.894245  119.889167  130.884089  Decreasing  \n",
      "3       124.510914  109.785449  120.763500  131.741551  Increasing  \n",
      "4       127.876074  110.372516  121.720167  133.067817  Increasing  \n",
      "..             ...         ...         ...         ...         ...  \n",
      "501     132.119995  114.494004  124.498666  134.503328  Decreasing  \n",
      "502     133.289993  114.820798  125.205166  135.589534  Increasing  \n",
      "503     135.020004  115.175718  125.953499  136.731280  Increasing  \n",
      "504     135.509995  115.545035  126.723499  137.901963  Decreasing  \n",
      "505     135.350006  116.203299  127.504333  138.805366  Decreasing  \n",
      "\n",
      "[506 rows x 11 columns]\n"
     ]
    }
   ],
   "source": [
    "import plotly.graph_objects as go\n",
    "\n",
    "import pandas as pd\n",
    "from datetime import datetime\n",
    "\n",
    "df = pd.read_csv('https://raw.githubusercontent.com/plotly/datasets/master/finance-charts-apple.csv')\n",
    "\n",
    "print(df)\n",
    "\n",
    "# fig = go.Figure(data=[go.Candlestick(x=df['Date'],\n",
    "#                 open=df['AAPL.Open'],\n",
    "#                 high=df['AAPL.High'],\n",
    "#                 low=df['AAPL.Low'],\n",
    "#                 close=df['AAPL.Close'])])\n",
    "\n",
    "# fig.show()"
   ]
  },
  {
   "cell_type": "code",
   "execution_count": null,
   "id": "27f80a7a",
   "metadata": {},
   "outputs": [],
   "source": []
  }
 ],
 "metadata": {
  "kernelspec": {
   "display_name": "Python 3 (ipykernel)",
   "language": "python",
   "name": "python3"
  },
  "language_info": {
   "codemirror_mode": {
    "name": "ipython",
    "version": 3
   },
   "file_extension": ".py",
   "mimetype": "text/x-python",
   "name": "python",
   "nbconvert_exporter": "python",
   "pygments_lexer": "ipython3",
   "version": "3.10.9"
  }
 },
 "nbformat": 4,
 "nbformat_minor": 5
}
